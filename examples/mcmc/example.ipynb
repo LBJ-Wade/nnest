{
 "cells": [
  {
   "cell_type": "code",
   "execution_count": 10,
   "metadata": {},
   "outputs": [],
   "source": [
    "import os\n",
    "import sys\n",
    "import argparse\n",
    "import torch\n",
    "from getdist import plots, MCSamples\n",
    "import getdist\n",
    "import numpy as np\n",
    "import matplotlib.pyplot as plt\n",
    "from scipy.stats import multivariate_normal"
   ]
  },
  {
   "cell_type": "code",
   "execution_count": 11,
   "metadata": {},
   "outputs": [],
   "source": [
    "path = os.path.realpath(os.path.join(os.getcwd(), '../..'))\n",
    "sys.path.insert(0, path)"
   ]
  },
  {
   "cell_type": "code",
   "execution_count": 12,
   "metadata": {},
   "outputs": [],
   "source": [
    "from nnest import MCMCSampler"
   ]
  },
  {
   "cell_type": "code",
   "execution_count": 13,
   "metadata": {},
   "outputs": [],
   "source": [
    "%matplotlib inline\n",
    "%config InlineBackend.figure_format = 'retina'"
   ]
  },
  {
   "cell_type": "code",
   "execution_count": 14,
   "metadata": {},
   "outputs": [],
   "source": [
    "# Himmelblau\n",
    "dims = 2\n",
    "def loglike(z):\n",
    "    z1 = z[:, 0]\n",
    "    z2 = z[:, 1]\n",
    "    return - (z1**2 + z2 - 11.)**2 - (z1 + z2**2 - 7.)**2"
   ]
  },
  {
   "cell_type": "code",
   "execution_count": 15,
   "metadata": {},
   "outputs": [],
   "source": [
    "# Rosenbrock\n",
    "#dims = 4\n",
    "#def loglike(z):\n",
    "#    return np.array([-sum(100.0 * (x[1:] - x[:-1] ** 2.0) ** 2.0 + (1 - x[:-1]) ** 2.0) for x in z])"
   ]
  },
  {
   "cell_type": "code",
   "execution_count": 16,
   "metadata": {},
   "outputs": [],
   "source": [
    "# Gauss\n",
    "#corr = 0.99\n",
    "#dims = 2\n",
    "#def loglike(x):\n",
    "#    return multivariate_normal.logpdf(x, mean=np.zeros(dims), cov=np.eye(dims) + corr * (1 - np.eye(dims)))"
   ]
  },
  {
   "cell_type": "code",
   "execution_count": 17,
   "metadata": {},
   "outputs": [
    {
     "name": "stdout",
     "output_type": "stream",
     "text": [
      "Creating directory for new run logs/test/run38\n",
      "[nnest.trainer] [INFO] SingleSpeedSpline(\n",
      "  (net): NormalizingFlowModel(\n",
      "    (flow): NormalizingFlow(\n",
      "      (flows): ModuleList(\n",
      "        (0): ActNorm()\n",
      "        (1): Invertible1x1Conv()\n",
      "        (2): NSF_CL(\n",
      "          (f1): MLP(\n",
      "            (net): Sequential(\n",
      "              (0): Linear(in_features=1, out_features=16, bias=True)\n",
      "              (1): LeakyReLU(negative_slope=0.2)\n",
      "              (2): Linear(in_features=16, out_features=16, bias=True)\n",
      "              (3): LeakyReLU(negative_slope=0.2)\n",
      "              (4): Linear(in_features=16, out_features=16, bias=True)\n",
      "              (5): LeakyReLU(negative_slope=0.2)\n",
      "              (6): Linear(in_features=16, out_features=23, bias=True)\n",
      "            )\n",
      "          )\n",
      "          (f2): MLP(\n",
      "            (net): Sequential(\n",
      "              (0): Linear(in_features=1, out_features=16, bias=True)\n",
      "              (1): LeakyReLU(negative_slope=0.2)\n",
      "              (2): Linear(in_features=16, out_features=16, bias=True)\n",
      "              (3): LeakyReLU(negative_slope=0.2)\n",
      "              (4): Linear(in_features=16, out_features=16, bias=True)\n",
      "              (5): LeakyReLU(negative_slope=0.2)\n",
      "              (6): Linear(in_features=16, out_features=23, bias=True)\n",
      "            )\n",
      "          )\n",
      "        )\n",
      "        (3): ActNorm()\n",
      "        (4): Invertible1x1Conv()\n",
      "        (5): NSF_CL(\n",
      "          (f1): MLP(\n",
      "            (net): Sequential(\n",
      "              (0): Linear(in_features=1, out_features=16, bias=True)\n",
      "              (1): LeakyReLU(negative_slope=0.2)\n",
      "              (2): Linear(in_features=16, out_features=16, bias=True)\n",
      "              (3): LeakyReLU(negative_slope=0.2)\n",
      "              (4): Linear(in_features=16, out_features=16, bias=True)\n",
      "              (5): LeakyReLU(negative_slope=0.2)\n",
      "              (6): Linear(in_features=16, out_features=23, bias=True)\n",
      "            )\n",
      "          )\n",
      "          (f2): MLP(\n",
      "            (net): Sequential(\n",
      "              (0): Linear(in_features=1, out_features=16, bias=True)\n",
      "              (1): LeakyReLU(negative_slope=0.2)\n",
      "              (2): Linear(in_features=16, out_features=16, bias=True)\n",
      "              (3): LeakyReLU(negative_slope=0.2)\n",
      "              (4): Linear(in_features=16, out_features=16, bias=True)\n",
      "              (5): LeakyReLU(negative_slope=0.2)\n",
      "              (6): Linear(in_features=16, out_features=23, bias=True)\n",
      "            )\n",
      "          )\n",
      "        )\n",
      "        (6): ActNorm()\n",
      "        (7): Invertible1x1Conv()\n",
      "        (8): NSF_CL(\n",
      "          (f1): MLP(\n",
      "            (net): Sequential(\n",
      "              (0): Linear(in_features=1, out_features=16, bias=True)\n",
      "              (1): LeakyReLU(negative_slope=0.2)\n",
      "              (2): Linear(in_features=16, out_features=16, bias=True)\n",
      "              (3): LeakyReLU(negative_slope=0.2)\n",
      "              (4): Linear(in_features=16, out_features=16, bias=True)\n",
      "              (5): LeakyReLU(negative_slope=0.2)\n",
      "              (6): Linear(in_features=16, out_features=23, bias=True)\n",
      "            )\n",
      "          )\n",
      "          (f2): MLP(\n",
      "            (net): Sequential(\n",
      "              (0): Linear(in_features=1, out_features=16, bias=True)\n",
      "              (1): LeakyReLU(negative_slope=0.2)\n",
      "              (2): Linear(in_features=16, out_features=16, bias=True)\n",
      "              (3): LeakyReLU(negative_slope=0.2)\n",
      "              (4): Linear(in_features=16, out_features=16, bias=True)\n",
      "              (5): LeakyReLU(negative_slope=0.2)\n",
      "              (6): Linear(in_features=16, out_features=23, bias=True)\n",
      "            )\n",
      "          )\n",
      "        )\n",
      "      )\n",
      "    )\n",
      "  )\n",
      ")\n",
      "[nnest.trainer] [INFO] SingleSpeedSpline(\n",
      "  (net): NormalizingFlowModel(\n",
      "    (flow): NormalizingFlow(\n",
      "      (flows): ModuleList(\n",
      "        (0): ActNorm()\n",
      "        (1): Invertible1x1Conv()\n",
      "        (2): NSF_CL(\n",
      "          (f1): MLP(\n",
      "            (net): Sequential(\n",
      "              (0): Linear(in_features=1, out_features=16, bias=True)\n",
      "              (1): LeakyReLU(negative_slope=0.2)\n",
      "              (2): Linear(in_features=16, out_features=16, bias=True)\n",
      "              (3): LeakyReLU(negative_slope=0.2)\n",
      "              (4): Linear(in_features=16, out_features=16, bias=True)\n",
      "              (5): LeakyReLU(negative_slope=0.2)\n",
      "              (6): Linear(in_features=16, out_features=23, bias=True)\n",
      "            )\n",
      "          )\n",
      "          (f2): MLP(\n",
      "            (net): Sequential(\n",
      "              (0): Linear(in_features=1, out_features=16, bias=True)\n",
      "              (1): LeakyReLU(negative_slope=0.2)\n",
      "              (2): Linear(in_features=16, out_features=16, bias=True)\n",
      "              (3): LeakyReLU(negative_slope=0.2)\n",
      "              (4): Linear(in_features=16, out_features=16, bias=True)\n",
      "              (5): LeakyReLU(negative_slope=0.2)\n",
      "              (6): Linear(in_features=16, out_features=23, bias=True)\n",
      "            )\n",
      "          )\n",
      "        )\n",
      "        (3): ActNorm()\n",
      "        (4): Invertible1x1Conv()\n",
      "        (5): NSF_CL(\n",
      "          (f1): MLP(\n",
      "            (net): Sequential(\n",
      "              (0): Linear(in_features=1, out_features=16, bias=True)\n",
      "              (1): LeakyReLU(negative_slope=0.2)\n",
      "              (2): Linear(in_features=16, out_features=16, bias=True)\n",
      "              (3): LeakyReLU(negative_slope=0.2)\n",
      "              (4): Linear(in_features=16, out_features=16, bias=True)\n",
      "              (5): LeakyReLU(negative_slope=0.2)\n",
      "              (6): Linear(in_features=16, out_features=23, bias=True)\n",
      "            )\n",
      "          )\n",
      "          (f2): MLP(\n",
      "            (net): Sequential(\n",
      "              (0): Linear(in_features=1, out_features=16, bias=True)\n",
      "              (1): LeakyReLU(negative_slope=0.2)\n",
      "              (2): Linear(in_features=16, out_features=16, bias=True)\n",
      "              (3): LeakyReLU(negative_slope=0.2)\n",
      "              (4): Linear(in_features=16, out_features=16, bias=True)\n",
      "              (5): LeakyReLU(negative_slope=0.2)\n",
      "              (6): Linear(in_features=16, out_features=23, bias=True)\n",
      "            )\n",
      "          )\n",
      "        )\n",
      "        (6): ActNorm()\n",
      "        (7): Invertible1x1Conv()\n",
      "        (8): NSF_CL(\n",
      "          (f1): MLP(\n",
      "            (net): Sequential(\n",
      "              (0): Linear(in_features=1, out_features=16, bias=True)\n",
      "              (1): LeakyReLU(negative_slope=0.2)\n",
      "              (2): Linear(in_features=16, out_features=16, bias=True)\n",
      "              (3): LeakyReLU(negative_slope=0.2)\n",
      "              (4): Linear(in_features=16, out_features=16, bias=True)\n",
      "              (5): LeakyReLU(negative_slope=0.2)\n",
      "              (6): Linear(in_features=16, out_features=23, bias=True)\n",
      "            )\n",
      "          )\n",
      "          (f2): MLP(\n",
      "            (net): Sequential(\n",
      "              (0): Linear(in_features=1, out_features=16, bias=True)\n",
      "              (1): LeakyReLU(negative_slope=0.2)\n",
      "              (2): Linear(in_features=16, out_features=16, bias=True)\n",
      "              (3): LeakyReLU(negative_slope=0.2)\n",
      "              (4): Linear(in_features=16, out_features=16, bias=True)\n",
      "              (5): LeakyReLU(negative_slope=0.2)\n",
      "              (6): Linear(in_features=16, out_features=23, bias=True)\n",
      "            )\n",
      "          )\n",
      "        )\n",
      "      )\n",
      "    )\n",
      "  )\n",
      ")\n",
      "[nnest.trainer] [INFO] Number of network params: [5844]\n",
      "[nnest.trainer] [INFO] Number of network params: [5844]\n",
      "[nnest.trainer] [INFO] Device [cpu]\n",
      "[nnest.trainer] [INFO] Device [cpu]\n",
      "[nnest.sampler] [INFO] Num base params [2]\n",
      "[nnest.sampler] [INFO] Num base params [2]\n",
      "[nnest.sampler] [INFO] Num derived params [0]\n",
      "[nnest.sampler] [INFO] Num derived params [0]\n",
      "[nnest.sampler] [INFO] Total params [2]\n",
      "[nnest.sampler] [INFO] Total params [2]\n"
     ]
    }
   ],
   "source": [
    "sampler = MCMCSampler(dims, loglike, hidden_dim=64, num_layers=1, num_blocks=5, scale='constant')"
   ]
  },
  {
   "cell_type": "code",
   "execution_count": null,
   "metadata": {},
   "outputs": [
    {
     "name": "stdout",
     "output_type": "stream",
     "text": [
      "[nnest.sampler] [INFO] Alpha [0.7071]\n",
      "[nnest.sampler] [INFO] Alpha [0.7071]\n",
      "[nnest.sampler] [INFO] Bootstrap step [1]\n",
      "[nnest.sampler] [INFO] Bootstrap step [1]\n",
      "[nnest.sampler] [INFO] Getting initial samples with emcee\n",
      "[nnest.sampler] [INFO] Getting initial samples with emcee\n",
      "[nnest.sampler] [INFO] Mean acceptance fraction: [0.257]\n",
      "[nnest.sampler] [INFO] Mean acceptance fraction: [0.257]\n",
      "[nnest.trainer] [INFO] Number of training samples [2000]\n",
      "[nnest.trainer] [INFO] Number of training samples [2000]\n",
      "[nnest.trainer] [INFO] Training jitter [0.0100]\n",
      "[nnest.trainer] [INFO] Training jitter [0.0100]\n",
      "[nnest.trainer] [INFO] Epoch [1] train loss [3.0021] validation loss [2.9124]\n",
      "[nnest.trainer] [INFO] Epoch [1] train loss [3.0021] validation loss [2.9124]\n"
     ]
    }
   ],
   "source": [
    "sampler.run(bootstrap_iters=2, jitter=0.01)"
   ]
  },
  {
   "cell_type": "code",
   "execution_count": null,
   "metadata": {},
   "outputs": [],
   "source": [
    "samples = [sampler.samples[i, :, :].squeeze() for i in range(sampler.samples.shape[0])]\n",
    "latent_samples = [sampler.latent_samples[i, :, :].squeeze() for i in range(sampler.latent_samples.shape[0])]\n",
    "loglikes = [sampler.loglikes[i, :].squeeze() for i in range(sampler.loglikes.shape[0])]"
   ]
  },
  {
   "cell_type": "code",
   "execution_count": null,
   "metadata": {},
   "outputs": [],
   "source": [
    "mc = MCSamples(samples=samples, loglikes=loglikes)"
   ]
  },
  {
   "cell_type": "code",
   "execution_count": null,
   "metadata": {},
   "outputs": [],
   "source": [
    "print(mc.getEffectiveSamples())\n",
    "print(mc.getMargeStats())\n",
    "print(mc.getConvergeTests())"
   ]
  },
  {
   "cell_type": "code",
   "execution_count": null,
   "metadata": {},
   "outputs": [],
   "source": [
    "g = plots.getSubplotPlotter(width_inch=8)\n",
    "g.triangle_plot(mc, filled=True)"
   ]
  },
  {
   "cell_type": "code",
   "execution_count": null,
   "metadata": {},
   "outputs": [],
   "source": [
    "fig, ax = plt.subplots(1, 2, figsize=(12,6))\n",
    "ax[0].plot(samples[0][0:1000,0], samples[0][0:1000,1])\n",
    "ax[1].plot(latent_samples[0][0:1000,0], latent_samples[0][0:1000,1])\n",
    "plt.show()"
   ]
  }
 ],
 "metadata": {
  "kernelspec": {
   "display_name": "Python 3",
   "language": "python",
   "name": "python3"
  },
  "language_info": {
   "codemirror_mode": {
    "name": "ipython",
    "version": 3
   },
   "file_extension": ".py",
   "mimetype": "text/x-python",
   "name": "python",
   "nbconvert_exporter": "python",
   "pygments_lexer": "ipython3",
   "version": "3.7.6"
  }
 },
 "nbformat": 4,
 "nbformat_minor": 4
}
