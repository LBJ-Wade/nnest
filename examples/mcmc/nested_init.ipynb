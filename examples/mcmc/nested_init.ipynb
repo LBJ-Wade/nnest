{
 "cells": [
  {
   "cell_type": "markdown",
   "metadata": {},
   "source": [
    "Example notebook showing how to use the nested sampler"
   ]
  },
  {
   "cell_type": "code",
   "execution_count": 1,
   "metadata": {},
   "outputs": [],
   "source": [
    "import os\n",
    "import sys\n",
    "import argparse\n",
    "import torch\n",
    "from getdist import plots, MCSamples\n",
    "import getdist\n",
    "import numpy as np\n",
    "from scipy.stats import multivariate_normal"
   ]
  },
  {
   "cell_type": "code",
   "execution_count": 2,
   "metadata": {},
   "outputs": [],
   "source": [
    "path = os.path.realpath(os.path.join(os.getcwd(), '../..'))\n",
    "sys.path.insert(0, path)"
   ]
  },
  {
   "cell_type": "code",
   "execution_count": 3,
   "metadata": {},
   "outputs": [],
   "source": [
    "from nnest import NestedSampler, MCMCSampler\n",
    "from nnest.likelihoods import *\n",
    "from nnest.priors import *"
   ]
  },
  {
   "cell_type": "code",
   "execution_count": 4,
   "metadata": {},
   "outputs": [],
   "source": [
    "%matplotlib inline\n",
    "%config InlineBackend.figure_format = 'retina'"
   ]
  },
  {
   "cell_type": "code",
   "execution_count": 5,
   "metadata": {},
   "outputs": [],
   "source": [
    "# Likelihood + prior\n",
    "#like = Himmelblau(2)\n",
    "#transform = lambda x: 5*x\n",
    "like = Rosenbrock(4)\n",
    "transform = lambda x: 5*x\n",
    "prior = UniformPrior(4, -2, 5)\n",
    "#like = Gaussian(2, 0.9)\n",
    "#transform = lambda x: 3*x\n",
    "#like = Eggbox(2)\n",
    "#transform = lambda x: 5*np.pi*x\n",
    "#like = GaussianShell(2)\n",
    "#transform = lambda x: 5*x\n",
    "#like = GaussianMix(2)\n",
    "#transform = lambda x: 5*x"
   ]
  },
  {
   "cell_type": "code",
   "execution_count": 6,
   "metadata": {},
   "outputs": [
    {
     "name": "stdout",
     "output_type": "stream",
     "text": [
      "Creating directory for new run logs/test/run7\n",
      "[nnest.trainer] [INFO] SingleSpeedSpline(\n",
      "  (flow): NormalizingFlow(\n",
      "    (flows): ModuleList(\n",
      "      (0): ActNorm()\n",
      "      (1): Invertible1x1Conv()\n",
      "      (2): NSF_CL(\n",
      "        (f1): MLP(\n",
      "          (net): Sequential(\n",
      "            (0): Linear(in_features=2, out_features=16, bias=True)\n",
      "            (1): LeakyReLU(negative_slope=0.2)\n",
      "            (2): Linear(in_features=16, out_features=16, bias=True)\n",
      "            (3): LeakyReLU(negative_slope=0.2)\n",
      "            (4): Linear(in_features=16, out_features=16, bias=True)\n",
      "            (5): LeakyReLU(negative_slope=0.2)\n",
      "            (6): Linear(in_features=16, out_features=46, bias=True)\n",
      "          )\n",
      "        )\n",
      "        (f2): MLP(\n",
      "          (net): Sequential(\n",
      "            (0): Linear(in_features=2, out_features=16, bias=True)\n",
      "            (1): LeakyReLU(negative_slope=0.2)\n",
      "            (2): Linear(in_features=16, out_features=16, bias=True)\n",
      "            (3): LeakyReLU(negative_slope=0.2)\n",
      "            (4): Linear(in_features=16, out_features=16, bias=True)\n",
      "            (5): LeakyReLU(negative_slope=0.2)\n",
      "            (6): Linear(in_features=16, out_features=46, bias=True)\n",
      "          )\n",
      "        )\n",
      "      )\n",
      "      (3): ActNorm()\n",
      "      (4): Invertible1x1Conv()\n",
      "      (5): NSF_CL(\n",
      "        (f1): MLP(\n",
      "          (net): Sequential(\n",
      "            (0): Linear(in_features=2, out_features=16, bias=True)\n",
      "            (1): LeakyReLU(negative_slope=0.2)\n",
      "            (2): Linear(in_features=16, out_features=16, bias=True)\n",
      "            (3): LeakyReLU(negative_slope=0.2)\n",
      "            (4): Linear(in_features=16, out_features=16, bias=True)\n",
      "            (5): LeakyReLU(negative_slope=0.2)\n",
      "            (6): Linear(in_features=16, out_features=46, bias=True)\n",
      "          )\n",
      "        )\n",
      "        (f2): MLP(\n",
      "          (net): Sequential(\n",
      "            (0): Linear(in_features=2, out_features=16, bias=True)\n",
      "            (1): LeakyReLU(negative_slope=0.2)\n",
      "            (2): Linear(in_features=16, out_features=16, bias=True)\n",
      "            (3): LeakyReLU(negative_slope=0.2)\n",
      "            (4): Linear(in_features=16, out_features=16, bias=True)\n",
      "            (5): LeakyReLU(negative_slope=0.2)\n",
      "            (6): Linear(in_features=16, out_features=46, bias=True)\n",
      "          )\n",
      "        )\n",
      "      )\n",
      "      (6): ActNorm()\n",
      "      (7): Invertible1x1Conv()\n",
      "      (8): NSF_CL(\n",
      "        (f1): MLP(\n",
      "          (net): Sequential(\n",
      "            (0): Linear(in_features=2, out_features=16, bias=True)\n",
      "            (1): LeakyReLU(negative_slope=0.2)\n",
      "            (2): Linear(in_features=16, out_features=16, bias=True)\n",
      "            (3): LeakyReLU(negative_slope=0.2)\n",
      "            (4): Linear(in_features=16, out_features=16, bias=True)\n",
      "            (5): LeakyReLU(negative_slope=0.2)\n",
      "            (6): Linear(in_features=16, out_features=46, bias=True)\n",
      "          )\n",
      "        )\n",
      "        (f2): MLP(\n",
      "          (net): Sequential(\n",
      "            (0): Linear(in_features=2, out_features=16, bias=True)\n",
      "            (1): LeakyReLU(negative_slope=0.2)\n",
      "            (2): Linear(in_features=16, out_features=16, bias=True)\n",
      "            (3): LeakyReLU(negative_slope=0.2)\n",
      "            (4): Linear(in_features=16, out_features=16, bias=True)\n",
      "            (5): LeakyReLU(negative_slope=0.2)\n",
      "            (6): Linear(in_features=16, out_features=46, bias=True)\n",
      "          )\n",
      "        )\n",
      "      )\n",
      "    )\n",
      "  )\n",
      ")\n",
      "[nnest.trainer] [INFO] Number of network params: [8376]\n",
      "[nnest.trainer] [INFO] Device [cpu]\n",
      "[nnest.sampler] [INFO] Num base params [4]\n",
      "[nnest.sampler] [INFO] Num derived params [0]\n",
      "[nnest.sampler] [INFO] Total params [4]\n",
      "[nnest.sampler] [INFO] Num live points [200]\n"
     ]
    }
   ],
   "source": [
    "sampler = NestedSampler(like.x_dim, like, transform=transform, num_live_points=200, hidden_dim=16, num_blocks=3, flow='spline')"
   ]
  },
  {
   "cell_type": "code",
   "execution_count": 7,
   "metadata": {},
   "outputs": [
    {
     "name": "stdout",
     "output_type": "stream",
     "text": [
      "[nnest.sampler] [INFO] MCMC steps [4]\n",
      "[nnest.sampler] [INFO] Initial scale [1.0000]\n",
      "[nnest.sampler] [INFO] Volume switch [-1.0000]\n",
      "[nnest.sampler] [INFO] Step [0] loglstar [-1.5726e+05] max logl [-1.7347e+02] logz [-1.5727e+05] vol [1.00000e+00] ncalls [201] mean calls [1.0000]\n",
      "[nnest.sampler] [INFO] Step [40] loglstar [-5.8353e+04] max logl [-1.7347e+02] logz [-5.8358e+04] vol [8.18731e-01] ncalls [249] mean calls [1.6000]\n",
      "[nnest.sampler] [INFO] Step [80] loglstar [-4.2917e+04] max logl [-1.7347e+02] logz [-4.2923e+04] vol [6.70320e-01] ncalls [310] mean calls [1.6000]\n",
      "[nnest.sampler] [INFO] Step [120] loglstar [-3.2668e+04] max logl [-1.7347e+02] logz [-3.2674e+04] vol [5.48812e-01] ncalls [377] mean calls [1.8000]\n",
      "[nnest.sampler] [INFO] Step [160] loglstar [-2.4454e+04] max logl [-1.7347e+02] logz [-2.4460e+04] vol [4.49329e-01] ncalls [474] mean calls [2.7000]\n",
      "[nnest.sampler] [INFO] Switching to MCMC sampling\n",
      "[nnest.trainer] [INFO] Number of training samples [200]\n",
      "[nnest.trainer] [INFO] Training jitter [0.0270]\n",
      "[nnest.trainer] [INFO] Epoch [1] train loss [0.0294] validation loss [0.1140]\n",
      "[nnest.trainer] [INFO] Epoch [50] train loss [0.0264] validation loss [0.1116]\n",
      "[nnest.trainer] [INFO] Epoch [79] ran out of patience\n",
      "[nnest.trainer] [INFO] Best epoch [29] validation loss [0.1109]\n",
      "[nnest.trainer] [INFO] Number of training samples [200]\n",
      "[nnest.trainer] [INFO] Training jitter [0.0257]\n",
      "[nnest.trainer] [INFO] Epoch [1] train loss [0.0265] validation loss [0.0997]\n",
      "[nnest.trainer] [INFO] Epoch [50] train loss [0.0248] validation loss [0.0998]\n",
      "[nnest.trainer] [INFO] Epoch [51] ran out of patience\n",
      "[nnest.trainer] [INFO] Best epoch [1] validation loss [0.0997]\n",
      "[nnest.sampler] [INFO] Acceptance [0.6250] min ESS [1.5347] max ESS [2.2814] average jump [0.1639]\n",
      "[nnest.sampler] [INFO] Step [200] loglstar [-1.8299e+04] maxlogl [-1.7347e+02] logz [-1.8306e+04] vol [3.67879e-01] ncalls [623] scale [0.1353]\n",
      "[nnest.sampler] [INFO] Acceptance [0.5500] min ESS [1.1724] max ESS [2.6494] average jump [0.1581]\n",
      "[nnest.sampler] [INFO] Step [240] loglstar [-1.3447e+04] maxlogl [-1.7347e+02] logz [-1.3454e+04] vol [3.01194e-01] ncalls [756] scale [0.1146]\n",
      "[nnest.sampler] [INFO] Acceptance [0.4750] min ESS [1.6340] max ESS [2.5148] average jump [0.1200]\n",
      "[nnest.sampler] [INFO] Step [280] loglstar [-1.0272e+04] maxlogl [-1.7347e+02] logz [-1.0278e+04] vol [2.46597e-01] ncalls [863] scale [0.1146]\n",
      "[nnest.sampler] [INFO] Acceptance [0.4750] min ESS [1.5798] max ESS [3.0106] average jump [0.1042]\n",
      "[nnest.sampler] [INFO] Step [320] loglstar [-8.2720e+03] maxlogl [-1.7347e+02] logz [-8.2789e+03] vol [2.01897e-01] ncalls [991] scale [0.1353]\n",
      "[nnest.sampler] [INFO] Acceptance [0.4250] min ESS [1.1434] max ESS [2.7356] average jump [0.1138]\n",
      "[nnest.sampler] [INFO] Step [360] loglstar [-6.6749e+03] maxlogl [-9.3954e+01] logz [-6.6815e+03] vol [1.65299e-01] ncalls [1126] scale [0.2231]\n",
      "[nnest.trainer] [INFO] Number of training samples [200]\n",
      "[nnest.trainer] [INFO] Training jitter [0.0187]\n",
      "[nnest.trainer] [INFO] Epoch [1] train loss [0.0184] validation loss [0.0990]\n",
      "[nnest.trainer] [INFO] Epoch [50] train loss [0.0147] validation loss [0.0851]\n",
      "[nnest.trainer] [INFO] Epoch [100] train loss [0.0126] validation loss [0.0796]\n",
      "[nnest.trainer] [INFO] Epoch [150] train loss [0.0111] validation loss [0.0768]\n",
      "[nnest.trainer] [INFO] Epoch [200] train loss [0.0099] validation loss [0.0769]\n",
      "[nnest.trainer] [INFO] Epoch [208] ran out of patience\n",
      "[nnest.trainer] [INFO] Best epoch [158] validation loss [0.0765]\n",
      "[nnest.sampler] [INFO] Acceptance [0.4250] min ESS [1.7904] max ESS [2.5336] average jump [0.0700]\n",
      "[nnest.sampler] [INFO] Step [400] loglstar [-5.6084e+03] maxlogl [-9.3954e+01] logz [-5.6157e+03] vol [1.35335e-01] ncalls [1248] scale [0.1353]\n",
      "[nnest.sampler] [INFO] Acceptance [0.5500] min ESS [1.2301] max ESS [3.1377] average jump [0.1583]\n",
      "[nnest.sampler] [INFO] Step [440] loglstar [-4.6253e+03] maxlogl [-6.9147e+01] logz [-4.6328e+03] vol [1.10803e-01] ncalls [1387] scale [0.2231]\n",
      "[nnest.sampler] [INFO] Acceptance [0.5750] min ESS [1.5922] max ESS [2.9073] average jump [0.1003]\n",
      "[nnest.sampler] [INFO] Step [480] loglstar [-3.6908e+03] maxlogl [-6.9147e+01] logz [-3.6985e+03] vol [9.07180e-02] ncalls [1502] scale [0.1353]\n",
      "[nnest.sampler] [INFO] Acceptance [0.3750] min ESS [2.0773] max ESS [2.8808] average jump [0.0963]\n",
      "[nnest.sampler] [INFO] Step [520] loglstar [-2.9071e+03] maxlogl [-5.1093e+01] logz [-2.9150e+03] vol [7.42736e-02] ncalls [1615] scale [0.6065]\n",
      "[nnest.sampler] [INFO] Acceptance [0.6250] min ESS [2.2024] max ESS [2.9179] average jump [0.1390]\n",
      "[nnest.sampler] [INFO] Step [560] loglstar [-2.4239e+03] maxlogl [-5.1093e+01] logz [-2.4319e+03] vol [6.08101e-02] ncalls [1755] scale [0.1353]\n",
      "[nnest.trainer] [INFO] Number of training samples [200]\n",
      "[nnest.trainer] [INFO] Training jitter [0.0152]\n",
      "[nnest.trainer] [INFO] Epoch [1] train loss [0.0075] validation loss [0.0282]\n",
      "[nnest.trainer] [INFO] Epoch [50] train loss [0.0024] validation loss [0.0281]\n",
      "[nnest.trainer] [INFO] Epoch [100] train loss [0.0001] validation loss [0.0272]\n",
      "[nnest.trainer] [INFO] Epoch [150] train loss [-0.0004] validation loss [0.0287]\n",
      "[nnest.trainer] [INFO] Epoch [156] ran out of patience\n",
      "[nnest.trainer] [INFO] Best epoch [106] validation loss [0.0270]\n",
      "[nnest.sampler] [INFO] Acceptance [0.4250] min ESS [2.1569] max ESS [2.7079] average jump [0.0506]\n",
      "[nnest.sampler] [INFO] Step [600] loglstar [-2.0145e+03] maxlogl [-2.1472e+01] logz [-2.0228e+03] vol [4.97871e-02] ncalls [1870] scale [0.1353]\n",
      "[nnest.sampler] [INFO] Acceptance [0.4250] min ESS [1.9844] max ESS [2.7679] average jump [0.0920]\n",
      "[nnest.sampler] [INFO] Step [640] loglstar [-1.6553e+03] maxlogl [-2.1472e+01] logz [-1.6638e+03] vol [4.07622e-02] ncalls [2027] scale [0.6065]\n",
      "[nnest.sampler] [INFO] Acceptance [0.6500] min ESS [1.9343] max ESS [3.4795] average jump [0.1156]\n",
      "[nnest.sampler] [INFO] Step [680] loglstar [-1.3984e+03] maxlogl [-2.1472e+01] logz [-1.4071e+03] vol [3.33733e-02] ncalls [2155] scale [0.1353]\n",
      "[nnest.sampler] [INFO] Acceptance [0.5250] min ESS [2.2098] max ESS [3.1067] average jump [0.0811]\n",
      "[nnest.sampler] [INFO] Step [720] loglstar [-1.1415e+03] maxlogl [-2.1472e+01] logz [-1.1504e+03] vol [2.73237e-02] ncalls [2307] scale [0.1353]\n",
      "[nnest.sampler] [INFO] Acceptance [0.5750] min ESS [1.7553] max ESS [3.3702] average jump [0.0855]\n",
      "[nnest.sampler] [INFO] Step [760] loglstar [-9.1459e+02] maxlogl [-2.1472e+01] logz [-9.2369e+02] vol [2.23708e-02] ncalls [2430] scale [0.1353]\n",
      "[nnest.trainer] [INFO] Number of training samples [200]\n",
      "[nnest.trainer] [INFO] Training jitter [0.0115]\n",
      "[nnest.trainer] [INFO] Epoch [1] train loss [-0.0038] validation loss [-0.0113]\n",
      "[nnest.trainer] [INFO] Epoch [50] train loss [-0.0090] validation loss [-0.0254]\n",
      "[nnest.trainer] [INFO] Epoch [100] train loss [-0.0115] validation loss [-0.0322]\n",
      "[nnest.trainer] [INFO] Epoch [150] train loss [-0.0126] validation loss [-0.0360]\n",
      "[nnest.trainer] [INFO] Epoch [200] train loss [-0.0137] validation loss [-0.0422]\n",
      "[nnest.trainer] [INFO] Epoch [250] train loss [-0.0151] validation loss [-0.0447]\n",
      "[nnest.trainer] [INFO] Epoch [300] train loss [-0.0159] validation loss [-0.0453]\n",
      "[nnest.trainer] [INFO] Epoch [350] train loss [-0.0168] validation loss [-0.0457]\n",
      "[nnest.trainer] [INFO] Epoch [400] train loss [-0.0165] validation loss [-0.0453]\n",
      "[nnest.trainer] [INFO] Epoch [413] ran out of patience\n",
      "[nnest.trainer] [INFO] Best epoch [363] validation loss [-0.0474]\n",
      "[nnest.sampler] [INFO] Acceptance [0.5000] min ESS [1.8206] max ESS [3.3352] average jump [0.0694]\n",
      "[nnest.sampler] [INFO] Step [800] loglstar [-7.7634e+02] maxlogl [-2.1472e+01] logz [-7.8531e+02] vol [1.83156e-02] ncalls [2559] scale [0.1353]\n",
      "[nnest.sampler] [INFO] Acceptance [0.6250] min ESS [1.8266] max ESS [3.6575] average jump [0.0849]\n",
      "[nnest.sampler] [INFO] Step [840] loglstar [-6.4713e+02] maxlogl [-2.1472e+01] logz [-6.5649e+02] vol [1.49956e-02] ncalls [2707] scale [0.1353]\n",
      "[nnest.sampler] [INFO] Acceptance [0.4750] min ESS [2.4177] max ESS [3.5895] average jump [0.0510]\n",
      "[nnest.sampler] [INFO] Step [880] loglstar [-5.5818e+02] maxlogl [-2.1472e+01] logz [-5.6734e+02] vol [1.22773e-02] ncalls [2822] scale [0.1353]\n"
     ]
    },
    {
     "name": "stdout",
     "output_type": "stream",
     "text": [
      "[nnest.sampler] [INFO] Acceptance [0.6000] min ESS [2.4248] max ESS [3.9715] average jump [0.0994]\n",
      "[nnest.sampler] [INFO] Step [920] loglstar [-4.8094e+02] maxlogl [-2.1472e+01] logz [-4.9039e+02] vol [1.00518e-02] ncalls [2934] scale [0.1353]\n",
      "[nnest.sampler] [INFO] Acceptance [0.4000] min ESS [1.9204] max ESS [3.3936] average jump [0.0588]\n",
      "[nnest.sampler] [INFO] Step [960] loglstar [-4.0440e+02] maxlogl [-2.1472e+01] logz [-4.1378e+02] vol [8.22975e-03] ncalls [3074] scale [0.2231]\n",
      "[nnest.trainer] [INFO] Number of training samples [200]\n",
      "[nnest.trainer] [INFO] Training jitter [0.0086]\n",
      "[nnest.trainer] [INFO] Epoch [1] train loss [-0.0173] validation loss [-0.0723]\n",
      "[nnest.trainer] [INFO] Epoch [50] train loss [-0.0240] validation loss [-0.0951]\n",
      "[nnest.trainer] [INFO] Epoch [100] train loss [-0.0255] validation loss [-0.0986]\n",
      "[nnest.trainer] [INFO] Epoch [150] train loss [-0.0270] validation loss [-0.1000]\n",
      "[nnest.trainer] [INFO] Epoch [200] train loss [-0.0273] validation loss [-0.0990]\n",
      "[nnest.trainer] [INFO] Epoch [208] ran out of patience\n",
      "[nnest.trainer] [INFO] Best epoch [158] validation loss [-0.1025]\n",
      "[nnest.sampler] [INFO] Acceptance [0.4500] min ESS [3.2330] max ESS [3.7251] average jump [0.0702]\n",
      "[nnest.sampler] [INFO] Step [1000] loglstar [-3.2856e+02] maxlogl [-1.3806e+01] logz [-3.3810e+02] vol [6.73795e-03] ncalls [3188] scale [0.2231]\n",
      "[nnest.sampler] [INFO] Acceptance [0.4750] min ESS [1.6951] max ESS [4.2489] average jump [0.0425]\n",
      "[nnest.sampler] [INFO] Step [1040] loglstar [-2.8120e+02] maxlogl [-1.3806e+01] logz [-2.9094e+02] vol [5.51656e-03] ncalls [3332] scale [0.1353]\n",
      "[nnest.sampler] [INFO] Acceptance [0.5250] min ESS [2.8044] max ESS [3.2560] average jump [0.0649]\n",
      "[nnest.sampler] [INFO] Step [1080] loglstar [-2.3576e+02] maxlogl [-1.3806e+01] logz [-2.4560e+02] vol [4.51658e-03] ncalls [3478] scale [0.1353]\n",
      "[nnest.sampler] [INFO] Acceptance [0.4500] min ESS [3.1227] max ESS [3.7286] average jump [0.0655]\n",
      "[nnest.sampler] [INFO] Step [1120] loglstar [-2.0790e+02] maxlogl [-9.9083e+00] logz [-2.1778e+02] vol [3.69786e-03] ncalls [3591] scale [0.6065]\n",
      "[nnest.sampler] [INFO] Acceptance [0.4500] min ESS [2.9926] max ESS [3.6013] average jump [0.0470]\n",
      "[nnest.sampler] [INFO] Step [1160] loglstar [-1.7648e+02] maxlogl [-9.9083e+00] logz [-1.8639e+02] vol [3.02755e-03] ncalls [3720] scale [0.1353]\n",
      "[nnest.trainer] [INFO] Number of training samples [200]\n",
      "[nnest.trainer] [INFO] Training jitter [0.0064]\n",
      "[nnest.trainer] [INFO] Epoch [1] train loss [-0.0278] validation loss [-0.1294]\n",
      "[nnest.trainer] [INFO] Epoch [50] train loss [-0.0353] validation loss [-0.1459]\n",
      "[nnest.trainer] [INFO] Epoch [100] train loss [-0.0378] validation loss [-0.1547]\n",
      "[nnest.trainer] [INFO] Epoch [150] train loss [-0.0391] validation loss [-0.1593]\n",
      "[nnest.trainer] [INFO] Epoch [200] train loss [-0.0396] validation loss [-0.1594]\n",
      "[nnest.trainer] [INFO] Epoch [230] ran out of patience\n",
      "[nnest.trainer] [INFO] Best epoch [180] validation loss [-0.1634]\n",
      "[nnest.sampler] [INFO] Acceptance [0.5250] min ESS [3.9158] max ESS [4.0787] average jump [0.0564]\n",
      "[nnest.sampler] [INFO] Step [1200] loglstar [-1.4765e+02] maxlogl [-9.9083e+00] logz [-1.5821e+02] vol [2.47875e-03] ncalls [3858] scale [0.1146]\n",
      "[nnest.sampler] [INFO] Acceptance [0.6000] min ESS [3.4199] max ESS [5.0000] average jump [0.0656]\n",
      "[nnest.sampler] [INFO] Step [1240] loglstar [-1.3150e+02] maxlogl [-9.9083e+00] logz [-1.4162e+02] vol [2.02943e-03] ncalls [3983] scale [0.8465]\n",
      "[nnest.sampler] [INFO] Acceptance [0.5250] min ESS [2.8343] max ESS [3.6219] average jump [0.0334]\n",
      "[nnest.sampler] [INFO] Step [1280] loglstar [-1.1193e+02] maxlogl [-9.9083e+00] logz [-1.2223e+02] vol [1.66156e-03] ncalls [4100] scale [0.1353]\n",
      "[nnest.sampler] [INFO] Acceptance [0.5000] min ESS [3.1260] max ESS [4.0661] average jump [0.0402]\n",
      "[nnest.sampler] [INFO] Step [1320] loglstar [-9.5182e+01] maxlogl [-8.1046e+00] logz [-1.0552e+02] vol [1.36037e-03] ncalls [4237] scale [0.2231]\n",
      "[nnest.sampler] [INFO] Acceptance [0.4500] min ESS [2.8690] max ESS [4.6043] average jump [0.0408]\n",
      "[nnest.sampler] [INFO] Step [1360] loglstar [-8.3209e+01] maxlogl [-8.1046e+00] logz [-9.4101e+01] vol [1.11378e-03] ncalls [4354] scale [0.1146]\n",
      "[nnest.trainer] [INFO] Number of training samples [200]\n",
      "[nnest.trainer] [INFO] Training jitter [0.0049]\n",
      "[nnest.trainer] [INFO] Epoch [1] train loss [-0.0416] validation loss [-0.1967]\n",
      "[nnest.trainer] [INFO] Epoch [50] train loss [-0.0480] validation loss [-0.2208]\n",
      "[nnest.trainer] [INFO] Epoch [100] train loss [-0.0503] validation loss [-0.2206]\n",
      "[nnest.trainer] [INFO] Epoch [137] ran out of patience\n",
      "[nnest.trainer] [INFO] Best epoch [87] validation loss [-0.2238]\n",
      "[nnest.sampler] [INFO] Acceptance [0.5250] min ESS [3.8411] max ESS [4.3260] average jump [0.0405]\n",
      "[nnest.sampler] [INFO] Step [1400] loglstar [-7.0685e+01] maxlogl [-6.6401e+00] logz [-8.1575e+01] vol [9.11882e-04] ncalls [4497] scale [0.1353]\n",
      "[nnest.sampler] [INFO] Acceptance [0.5000] min ESS [3.0117] max ESS [4.5876] average jump [0.0274]\n",
      "[nnest.sampler] [INFO] Step [1440] loglstar [-6.1170e+01] maxlogl [-6.6401e+00] logz [-7.2312e+01] vol [7.46586e-04] ncalls [4615] scale [0.1353]\n",
      "[nnest.sampler] [INFO] Acceptance [0.6000] min ESS [3.0956] max ESS [5.0000] average jump [0.0295]\n",
      "[nnest.sampler] [INFO] Step [1480] loglstar [-5.1349e+01] maxlogl [-6.6401e+00] logz [-6.2460e+01] vol [6.11253e-04] ncalls [4728] scale [0.1353]\n",
      "[nnest.sampler] [INFO] Acceptance [0.5250] min ESS [3.0742] max ESS [3.3752] average jump [0.0215]\n",
      "[nnest.sampler] [INFO] Step [1520] loglstar [-4.4759e+01] maxlogl [-9.1876e-01] logz [-5.5699e+01] vol [5.00451e-04] ncalls [4869] scale [0.1353]\n",
      "[nnest.sampler] [INFO] Acceptance [0.5750] min ESS [3.1221] max ESS [5.0000] average jump [0.0377]\n",
      "[nnest.sampler] [INFO] Step [1560] loglstar [-3.8878e+01] maxlogl [-9.1876e-01] logz [-4.9765e+01] vol [4.09735e-04] ncalls [4995] scale [0.1353]\n",
      "[nnest.trainer] [INFO] Number of training samples [200]\n",
      "[nnest.trainer] [INFO] Training jitter [0.0034]\n",
      "[nnest.trainer] [INFO] Epoch [1] train loss [-0.0549] validation loss [-0.2482]\n",
      "[nnest.trainer] [INFO] Epoch [50] train loss [-0.0624] validation loss [-0.2415]\n",
      "[nnest.trainer] [INFO] Epoch [54] ran out of patience\n",
      "[nnest.trainer] [INFO] Best epoch [4] validation loss [-0.2509]\n",
      "[nnest.sampler] [INFO] Acceptance [0.4750] min ESS [3.7560] max ESS [5.0000] average jump [0.0170]\n",
      "[nnest.sampler] [INFO] Step [1600] loglstar [-3.3312e+01] maxlogl [-9.1876e-01] logz [-4.4304e+01] vol [3.35463e-04] ncalls [5129] scale [0.1353]\n",
      "[nnest.sampler] [INFO] Acceptance [0.5750] min ESS [3.2065] max ESS [5.0000] average jump [0.0274]\n",
      "[nnest.sampler] [INFO] Step [1640] loglstar [-2.9110e+01] maxlogl [-9.1876e-01] logz [-4.0477e+01] vol [2.74654e-04] ncalls [5248] scale [0.1353]\n",
      "[nnest.sampler] [INFO] Acceptance [0.4250] min ESS [3.4408] max ESS [5.0000] average jump [0.0265]\n",
      "[nnest.sampler] [INFO] Step [1680] loglstar [-2.4628e+01] maxlogl [-9.1876e-01] logz [-3.6106e+01] vol [2.24867e-04] ncalls [5390] scale [0.1146]\n",
      "[nnest.sampler] [INFO] Acceptance [0.4500] min ESS [3.0547] max ESS [5.0000] average jump [0.0150]\n",
      "[nnest.sampler] [INFO] Step [1720] loglstar [-2.1979e+01] maxlogl [-9.1876e-01] logz [-3.2987e+01] vol [1.84106e-04] ncalls [5502] scale [0.1353]\n",
      "[nnest.sampler] [INFO] Acceptance [0.2750] min ESS [3.5164] max ESS [4.1448] average jump [0.0136]\n",
      "[nnest.sampler] [INFO] Step [1760] loglstar [-1.9595e+01] maxlogl [-9.1876e-01] logz [-3.0680e+01] vol [1.50733e-04] ncalls [5645] scale [0.1245]\n",
      "[nnest.trainer] [INFO] Number of training samples [200]\n",
      "[nnest.trainer] [INFO] Training jitter [0.0029]\n",
      "[nnest.trainer] [INFO] Epoch [1] train loss [-0.0574] validation loss [-0.2569]\n",
      "[nnest.trainer] [INFO] Epoch [50] train loss [-0.0717] validation loss [-0.3015]\n",
      "[nnest.trainer] [INFO] Epoch [100] train loss [-0.0745] validation loss [-0.3077]\n",
      "[nnest.trainer] [INFO] Epoch [150] train loss [-0.0751] validation loss [-0.3107]\n",
      "[nnest.trainer] [INFO] Epoch [200] train loss [-0.0770] validation loss [-0.3083]\n",
      "[nnest.trainer] [INFO] Epoch [240] ran out of patience\n",
      "[nnest.trainer] [INFO] Best epoch [190] validation loss [-0.3139]\n",
      "[nnest.sampler] [INFO] Acceptance [0.2750] min ESS [3.5869] max ESS [4.1158] average jump [0.0158]\n"
     ]
    },
    {
     "name": "stdout",
     "output_type": "stream",
     "text": [
      "[nnest.sampler] [INFO] Step [1800] loglstar [-1.7497e+01] maxlogl [-9.1876e-01] logz [-2.8901e+01] vol [1.23410e-04] ncalls [5780] scale [0.1245]\n",
      "[nnest.sampler] [INFO] Acceptance [0.4750] min ESS [3.0349] max ESS [3.9477] average jump [0.0312]\n",
      "[nnest.sampler] [INFO] Step [1840] loglstar [-1.5387e+01] maxlogl [-9.1876e-01] logz [-2.6883e+01] vol [1.01039e-04] ncalls [5894] scale [0.1146]\n",
      "[nnest.sampler] [INFO] Acceptance [0.4750] min ESS [3.3999] max ESS [5.0000] average jump [0.0196]\n",
      "[nnest.sampler] [INFO] Step [1880] loglstar [-1.3996e+01] maxlogl [-9.1876e-01] logz [-2.5317e+01] vol [8.27241e-05] ncalls [6038] scale [0.1353]\n",
      "[nnest.sampler] [INFO] Acceptance [0.5000] min ESS [3.2079] max ESS [5.0000] average jump [0.0251]\n",
      "[nnest.sampler] [INFO] Step [1920] loglstar [-1.2436e+01] maxlogl [-9.1876e-01] logz [-2.3908e+01] vol [6.77287e-05] ncalls [6164] scale [0.2231]\n",
      "[nnest.sampler] [INFO] Acceptance [0.4250] min ESS [3.4512] max ESS [5.0000] average jump [0.0180]\n",
      "[nnest.sampler] [INFO] Step [1960] loglstar [-1.1378e+01] maxlogl [-9.1876e-01] logz [-2.2721e+01] vol [5.54516e-05] ncalls [6308] scale [0.1353]\n",
      "[nnest.trainer] [INFO] Number of training samples [200]\n",
      "[nnest.trainer] [INFO] Training jitter [0.0022]\n",
      "[nnest.trainer] [INFO] Epoch [1] train loss [-0.0793] validation loss [-0.3872]\n",
      "[nnest.trainer] [INFO] Epoch [50] train loss [-0.0857] validation loss [-0.3944]\n",
      "[nnest.trainer] [INFO] Epoch [70] ran out of patience\n",
      "[nnest.trainer] [INFO] Best epoch [20] validation loss [-0.3973]\n",
      "[nnest.sampler] [INFO] Acceptance [0.4250] min ESS [2.8997] max ESS [5.0000] average jump [0.0173]\n",
      "[nnest.sampler] [INFO] Step [2000] loglstar [-1.0242e+01] maxlogl [-9.1876e-01] logz [-2.1805e+01] vol [4.53999e-05] ncalls [6426] scale [0.2231]\n",
      "[nnest.sampler] [INFO] Acceptance [0.3750] min ESS [3.7175] max ESS [5.0000] average jump [0.0193]\n",
      "[nnest.sampler] [INFO] Step [2040] loglstar [-9.3976e+00] maxlogl [-9.1876e-01] logz [-2.0965e+01] vol [3.71703e-05] ncalls [6575] scale [0.6065]\n",
      "[nnest.sampler] [INFO] Acceptance [0.2750] min ESS [3.4767] max ESS [4.0723] average jump [0.0120]\n",
      "[nnest.sampler] [INFO] Step [2080] loglstar [-8.5992e+00] maxlogl [-5.7749e-01] logz [-2.0196e+01] vol [3.04325e-05] ncalls [6721] scale [0.1146]\n",
      "[nnest.sampler] [INFO] Acceptance [0.4000] min ESS [3.2273] max ESS [4.6087] average jump [0.0108]\n",
      "[nnest.sampler] [INFO] Step [2120] loglstar [-8.0091e+00] maxlogl [-5.7749e-01] logz [-1.9594e+01] vol [2.49160e-05] ncalls [6873] scale [0.1353]\n",
      "[nnest.sampler] [INFO] Acceptance [0.4750] min ESS [3.6327] max ESS [5.0000] average jump [0.0155]\n",
      "[nnest.sampler] [INFO] Step [2160] loglstar [-7.5098e+00] maxlogl [-5.7749e-01] logz [-1.9105e+01] vol [2.03995e-05] ncalls [6984] scale [0.1353]\n",
      "[nnest.trainer] [INFO] Number of training samples [200]\n",
      "[nnest.trainer] [INFO] Training jitter [0.0017]\n",
      "[nnest.trainer] [INFO] Epoch [1] train loss [-0.0853] validation loss [-0.3825]\n",
      "[nnest.trainer] [INFO] Epoch [50] train loss [-0.0935] validation loss [-0.4104]\n",
      "[nnest.trainer] [INFO] Epoch [100] train loss [-0.0956] validation loss [-0.4162]\n",
      "[nnest.trainer] [INFO] Epoch [150] train loss [-0.0964] validation loss [-0.4276]\n",
      "[nnest.trainer] [INFO] Epoch [200] train loss [-0.0982] validation loss [-0.4272]\n",
      "[nnest.trainer] [INFO] Epoch [250] train loss [-0.0985] validation loss [-0.4252]\n",
      "[nnest.trainer] [INFO] Epoch [286] ran out of patience\n",
      "[nnest.trainer] [INFO] Best epoch [236] validation loss [-0.4293]\n",
      "[nnest.sampler] [INFO] Acceptance [0.4750] min ESS [3.4265] max ESS [5.0000] average jump [0.0185]\n",
      "[nnest.sampler] [INFO] Step [2200] loglstar [-6.9061e+00] maxlogl [-5.7749e-01] logz [-1.8676e+01] vol [1.67017e-05] ncalls [7128] scale [0.1146]\n",
      "[nnest.sampler] [INFO] Acceptance [0.4000] min ESS [3.6970] max ESS [5.0000] average jump [0.0218]\n",
      "[nnest.sampler] [INFO] Step [2240] loglstar [-6.3970e+00] maxlogl [-5.7749e-01] logz [-1.8259e+01] vol [1.36742e-05] ncalls [7281] scale [0.1599]\n",
      "[nnest.sampler] [INFO] Acceptance [0.5000] min ESS [3.5586] max ESS [5.0000] average jump [0.0222]\n",
      "[nnest.sampler] [INFO] Step [2280] loglstar [-5.7880e+00] maxlogl [-5.7749e-01] logz [-1.7870e+01] vol [1.11955e-05] ncalls [7408] scale [0.2231]\n",
      "[nnest.sampler] [INFO] Acceptance [0.5000] min ESS [3.5306] max ESS [3.9230] average jump [0.0341]\n",
      "[nnest.sampler] [INFO] Step [2320] loglstar [-5.4656e+00] maxlogl [-4.9580e-01] logz [-1.7522e+01] vol [9.16609e-06] ncalls [7530] scale [0.6065]\n",
      "[nnest.sampler] [INFO] Acceptance [0.5750] min ESS [3.2919] max ESS [5.0000] average jump [0.0226]\n",
      "[nnest.sampler] [INFO] Step [2360] loglstar [-5.0414e+00] maxlogl [-3.5681e-01] logz [-1.7221e+01] vol [7.50456e-06] ncalls [7646] scale [0.1353]\n",
      "[nnest.trainer] [INFO] Number of training samples [200]\n",
      "[nnest.trainer] [INFO] Training jitter [0.0014]\n",
      "[nnest.trainer] [INFO] Epoch [1] train loss [-0.0980] validation loss [-0.4516]\n",
      "[nnest.trainer] [INFO] Epoch [50] train loss [-0.1041] validation loss [-0.4777]\n",
      "[nnest.trainer] [INFO] Epoch [100] train loss [-0.1060] validation loss [-0.4791]\n",
      "[nnest.trainer] [INFO] Epoch [150] train loss [-0.1073] validation loss [-0.4813]\n",
      "[nnest.trainer] [INFO] Epoch [200] train loss [-0.1081] validation loss [-0.4853]\n",
      "[nnest.trainer] [INFO] Epoch [250] train loss [-0.1085] validation loss [-0.4878]\n",
      "[nnest.trainer] [INFO] Epoch [267] ran out of patience\n",
      "[nnest.trainer] [INFO] Best epoch [217] validation loss [-0.4888]\n",
      "[nnest.sampler] [INFO] Acceptance [0.4000] min ESS [3.3475] max ESS [5.0000] average jump [0.0192]\n",
      "[nnest.sampler] [INFO] Step [2400] loglstar [-4.5855e+00] maxlogl [-3.5681e-01] logz [-1.6931e+01] vol [6.14421e-06] ncalls [7775] scale [0.1245]\n",
      "[nnest.sampler] [INFO] Acceptance [0.4500] min ESS [4.0544] max ESS [5.0000] average jump [0.0213]\n",
      "[nnest.sampler] [INFO] Step [2440] loglstar [-4.2558e+00] maxlogl [-3.5681e-01] logz [-1.6669e+01] vol [5.03046e-06] ncalls [7908] scale [0.1146]\n",
      "[nnest.sampler] [INFO] Acceptance [0.4500] min ESS [3.4708] max ESS [4.0340] average jump [0.0117]\n",
      "[nnest.sampler] [INFO] Step [2480] loglstar [-4.0252e+00] maxlogl [-6.5968e-02] logz [-1.6445e+01] vol [4.11859e-06] ncalls [8022] scale [0.0970]\n",
      "[nnest.sampler] [INFO] Acceptance [0.5750] min ESS [3.8325] max ESS [5.0000] average jump [0.0255]\n",
      "[nnest.sampler] [INFO] Step [2520] loglstar [-3.7382e+00] maxlogl [-6.5968e-02] logz [-1.6249e+01] vol [3.37202e-06] ncalls [8158] scale [0.1353]\n",
      "[nnest.sampler] [INFO] Acceptance [0.4750] min ESS [5.0000] max ESS [5.0000] average jump [0.0118]\n",
      "[nnest.sampler] [INFO] Step [2560] loglstar [-3.4913e+00] maxlogl [-6.5968e-02] logz [-1.6073e+01] vol [2.76077e-06] ncalls [8298] scale [0.1353]\n",
      "[nnest.trainer] [INFO] Number of training samples [200]\n",
      "[nnest.trainer] [INFO] Training jitter [0.0010]\n",
      "[nnest.trainer] [INFO] Epoch [1] train loss [-0.1095] validation loss [-0.4913]\n",
      "[nnest.trainer] [INFO] Epoch [50] train loss [-0.1165] validation loss [-0.5068]\n",
      "[nnest.trainer] [INFO] Epoch [94] ran out of patience\n",
      "[nnest.trainer] [INFO] Best epoch [44] validation loss [-0.5109]\n",
      "[nnest.sampler] [INFO] Acceptance [0.4500] min ESS [4.0670] max ESS [5.0000] average jump [0.0136]\n",
      "[nnest.sampler] [INFO] Step [2600] loglstar [-3.3028e+00] maxlogl [-6.5968e-02] logz [-1.5926e+01] vol [2.26033e-06] ncalls [8409] scale [0.1146]\n",
      "[nnest.sampler] [INFO] Acceptance [0.4000] min ESS [3.7994] max ESS [4.6120] average jump [0.0146]\n",
      "[nnest.sampler] [INFO] Step [2640] loglstar [-3.0713e+00] maxlogl [-6.5968e-02] logz [-1.5795e+01] vol [1.85060e-06] ncalls [8548] scale [0.1599]\n",
      "[nnest.sampler] [INFO] Acceptance [0.5750] min ESS [5.0000] max ESS [5.0000] average jump [0.0234]\n",
      "[nnest.sampler] [INFO] Step [2680] loglstar [-2.8025e+00] maxlogl [-6.5968e-02] logz [-1.5672e+01] vol [1.51514e-06] ncalls [8701] scale [0.2231]\n",
      "[nnest.sampler] [INFO] Acceptance [0.5000] min ESS [5.0000] max ESS [5.0000] average jump [0.0185]\n",
      "[nnest.sampler] [INFO] Step [2720] loglstar [-2.6074e+00] maxlogl [-6.5968e-02] logz [-1.5562e+01] vol [1.24050e-06] ncalls [8843] scale [0.2231]\n",
      "[nnest.sampler] [INFO] Acceptance [0.4750] min ESS [5.0000] max ESS [5.0000] average jump [0.0135]\n",
      "[nnest.sampler] [INFO] Step [2760] loglstar [-2.3976e+00] maxlogl [-6.5968e-02] logz [-1.5463e+01] vol [1.01563e-06] ncalls [8953] scale [0.1353]\n"
     ]
    },
    {
     "name": "stdout",
     "output_type": "stream",
     "text": [
      "[nnest.trainer] [INFO] Number of training samples [200]\n",
      "[nnest.trainer] [INFO] Training jitter [0.0008]\n",
      "[nnest.trainer] [INFO] Epoch [1] train loss [-0.1198] validation loss [-0.5355]\n",
      "[nnest.trainer] [INFO] Epoch [50] train loss [-0.1263] validation loss [-0.5655]\n",
      "[nnest.trainer] [INFO] Epoch [100] train loss [-0.1278] validation loss [-0.5859]\n",
      "[nnest.trainer] [INFO] Epoch [150] train loss [-0.1295] validation loss [-0.5924]\n",
      "[nnest.trainer] [INFO] Epoch [200] train loss [-0.1295] validation loss [-0.5917]\n",
      "[nnest.trainer] [INFO] Epoch [250] train loss [-0.1294] validation loss [-0.5978]\n",
      "[nnest.trainer] [INFO] Epoch [300] train loss [-0.1310] validation loss [-0.6001]\n",
      "[nnest.trainer] [INFO] Epoch [312] ran out of patience\n",
      "[nnest.trainer] [INFO] Best epoch [262] validation loss [-0.6044]\n",
      "[nnest.sampler] [INFO] Acceptance [0.5500] min ESS [5.0000] max ESS [5.0000] average jump [0.0174]\n",
      "[nnest.sampler] [INFO] Step [2800] loglstar [-2.1963e+00] maxlogl [-6.5968e-02] logz [-1.5372e+01] vol [8.31529e-07] ncalls [9081] scale [0.1353]\n",
      "[nnest.sampler] [INFO] Acceptance [0.6000] min ESS [5.0000] max ESS [5.0000] average jump [0.0148]\n",
      "[nnest.sampler] [INFO] Step [2840] loglstar [-1.9868e+00] maxlogl [-6.5968e-02] logz [-1.5288e+01] vol [6.80798e-07] ncalls [9234] scale [0.1353]\n",
      "[nnest.sampler] [INFO] Acceptance [0.5250] min ESS [4.1060] max ESS [5.0000] average jump [0.0119]\n",
      "[nnest.sampler] [INFO] Step [2880] loglstar [-1.6972e+00] maxlogl [-6.5968e-02] logz [-1.5205e+01] vol [5.57390e-07] ncalls [9361] scale [0.6065]\n",
      "[nnest.sampler] [INFO] Acceptance [0.5500] min ESS [5.0000] max ESS [5.0000] average jump [0.0165]\n",
      "[nnest.sampler] [INFO] Step [2920] loglstar [-1.4667e+00] maxlogl [-6.5968e-02] logz [-1.5126e+01] vol [4.56353e-07] ncalls [9518] scale [0.2231]\n",
      "[nnest.sampler] [INFO] Acceptance [0.5500] min ESS [4.0246] max ESS [5.0000] average jump [0.0116]\n",
      "[nnest.sampler] [INFO] Step [2960] loglstar [-1.3400e+00] maxlogl [-6.5968e-02] logz [-1.5053e+01] vol [3.73630e-07] ncalls [9645] scale [0.1353]\n",
      "[nnest.trainer] [INFO] Number of training samples [200]\n",
      "[nnest.trainer] [INFO] Training jitter [0.0006]\n",
      "[nnest.trainer] [INFO] Epoch [1] train loss [-0.1364] validation loss [-0.5985]\n",
      "[nnest.trainer] [INFO] Epoch [50] train loss [-0.1420] validation loss [-0.6176]\n",
      "[nnest.trainer] [INFO] Epoch [91] ran out of patience\n",
      "[nnest.trainer] [INFO] Best epoch [41] validation loss [-0.6310]\n",
      "[nnest.sampler] [INFO] Acceptance [0.5250] min ESS [5.0000] max ESS [5.0000] average jump [0.0099]\n",
      "[nnest.sampler] [INFO] Step [3000] loglstar [-1.2027e+00] maxlogl [-5.8819e-02] logz [-1.4990e+01] vol [3.05902e-07] ncalls [9760] scale [0.1353]\n",
      "[nnest.sampler] [INFO] Acceptance [0.4250] min ESS [4.6241] max ESS [5.0000] average jump [0.0090]\n",
      "[nnest.sampler] [INFO] Step [3040] loglstar [-1.0846e+00] maxlogl [-5.8819e-02] logz [-1.4934e+01] vol [2.50452e-07] ncalls [9900] scale [0.1599]\n",
      "niter: 3059\n",
      " ncall: 9959\n",
      " nsamples: 3259\n",
      " logz: -14.616 +/-  0.247\n",
      " h: 12.246\n"
     ]
    }
   ],
   "source": [
    "sampler.run(mcmc_steps=like.x_dim)"
   ]
  },
  {
   "cell_type": "code",
   "execution_count": 8,
   "metadata": {},
   "outputs": [
    {
     "name": "stdout",
     "output_type": "stream",
     "text": [
      "-14.615859816865376\n"
     ]
    }
   ],
   "source": [
    "print(sampler.logz)"
   ]
  },
  {
   "cell_type": "code",
   "execution_count": 9,
   "metadata": {},
   "outputs": [
    {
     "name": "stderr",
     "output_type": "stream",
     "text": [
      "WARNING:root:outlier fraction 0.0031914893617021275 \n"
     ]
    },
    {
     "name": "stdout",
     "output_type": "stream",
     "text": [
      "Removed no burn in\n"
     ]
    }
   ],
   "source": [
    "mc = MCSamples(samples=sampler.samples, weights=sampler.weights, loglikes=-sampler.loglikes)"
   ]
  },
  {
   "cell_type": "code",
   "execution_count": 10,
   "metadata": {},
   "outputs": [
    {
     "name": "stdout",
     "output_type": "stream",
     "text": [
      "1329.7766372957497\n",
      "Marginalized limits: 0.68; 0.95; 0.99\n",
      "\n",
      "parameter   mean           sddev          lower1         upper1         limit1 lower2         upper2         limit2 lower3         upper3         limit3 \n",
      "param1      6.5805368E-01  3.9337919E-01  6.0749859E-01  1.0259594E+00  two   -6.7755926E-01  1.1125212E+00  two   -7.2624654E-01  1.1211594E+00  two     p_{1}\n",
      "param2      5.8802238E-01  2.8963710E-01  3.7002655E-01  9.6100540E-01  two    2.4078013E-02  1.0471346E+00  two   -9.4052711E-02  1.1245166E+00  two     p_{2}\n",
      "param3      4.2200548E-01  3.1185494E-01  1.7947291E-02  8.0504416E-01  two   -8.0450669E-02  9.7253754E-01  two   -9.7747901E-02  1.0114463E+00  two     p_{3}\n",
      "param4      2.7550230E-01  2.8701369E-01 -8.0095303E-02  7.4145064E-01  two   -1.0739598E-01  8.5285187E-01  two   -1.4248261E-01  9.7771391E-01  two     p_{4}\n",
      "\n",
      "Best fit sample -log(Like) = 0.058819\n",
      "mean(-Ln(like)) = 2.369790\n",
      "-Ln(mean like)  = 1.521502\n",
      "\n",
      "parameter   bestfit        lower1         upper1         lower2         upper2\n",
      "param1      9.8561727E-01  1.3404890E-01  1.0733252E+00 -8.6455815E-01  1.0733252E+00   p_{1}\n",
      "param2      9.6390709E-01  2.7184919E-04  1.0601556E+00 -9.7454377E-02  1.0931122E+00   p_{2}\n",
      "param3      9.0992428E-01 -3.3972561E-02  1.0336577E+00 -1.1799045E-01  1.0336577E+00   p_{3}\n",
      "param4      8.1978686E-01 -9.6312771E-02  1.0293479E+00 -1.5992830E-01  1.0293479E+00   p_{4}\n",
      "\n"
     ]
    }
   ],
   "source": [
    "print(mc.getEffectiveSamples())\n",
    "print(mc.getMargeStats())\n",
    "print(mc.likeStats)"
   ]
  },
  {
   "cell_type": "code",
   "execution_count": 11,
   "metadata": {},
   "outputs": [
    {
     "data": {
      "image/png": "[encoded data removed]",
      "text/plain": [
       "<Figure size 576x576 with 10 Axes>"
      ]
     },
     "metadata": {
      "image/png": {
       "height": 564,
       "width": 565
      },
      "needs_background": "light"
     },
     "output_type": "display_data"
    }
   ],
   "source": [
    "g = plots.getSubplotPlotter(width_inch=8)\n",
    "g.triangle_plot(mc, filled=True)"
   ]
  },
  {
   "cell_type": "code",
   "execution_count": 12,
   "metadata": {},
   "outputs": [],
   "source": [
    "init_samples = mc.makeSingleSamples()"
   ]
  },
  {
   "cell_type": "code",
   "execution_count": 13,
   "metadata": {},
   "outputs": [
    {
     "data": {
      "text/plain": [
       "(392, 4)"
      ]
     },
     "execution_count": 13,
     "metadata": {},
     "output_type": "execute_result"
    }
   ],
   "source": [
    "init_samples.shape"
   ]
  },
  {
   "cell_type": "code",
   "execution_count": 14,
   "metadata": {},
   "outputs": [
    {
     "name": "stdout",
     "output_type": "stream",
     "text": [
      "[nnest.trainer] [INFO] SingleSpeedSpline(\n",
      "  (flow): NormalizingFlow(\n",
      "    (flows): ModuleList(\n",
      "      (0): ActNorm()\n",
      "      (1): Invertible1x1Conv()\n",
      "      (2): NSF_CL(\n",
      "        (f1): MLP(\n",
      "          (net): Sequential(\n",
      "            (0): Linear(in_features=2, out_features=16, bias=True)\n",
      "            (1): LeakyReLU(negative_slope=0.2)\n",
      "            (2): Linear(in_features=16, out_features=16, bias=True)\n",
      "            (3): LeakyReLU(negative_slope=0.2)\n",
      "            (4): Linear(in_features=16, out_features=16, bias=True)\n",
      "            (5): LeakyReLU(negative_slope=0.2)\n",
      "            (6): Linear(in_features=16, out_features=46, bias=True)\n",
      "          )\n",
      "        )\n",
      "        (f2): MLP(\n",
      "          (net): Sequential(\n",
      "            (0): Linear(in_features=2, out_features=16, bias=True)\n",
      "            (1): LeakyReLU(negative_slope=0.2)\n",
      "            (2): Linear(in_features=16, out_features=16, bias=True)\n",
      "            (3): LeakyReLU(negative_slope=0.2)\n",
      "            (4): Linear(in_features=16, out_features=16, bias=True)\n",
      "            (5): LeakyReLU(negative_slope=0.2)\n",
      "            (6): Linear(in_features=16, out_features=46, bias=True)\n",
      "          )\n",
      "        )\n",
      "      )\n",
      "      (3): ActNorm()\n",
      "      (4): Invertible1x1Conv()\n",
      "      (5): NSF_CL(\n",
      "        (f1): MLP(\n",
      "          (net): Sequential(\n",
      "            (0): Linear(in_features=2, out_features=16, bias=True)\n",
      "            (1): LeakyReLU(negative_slope=0.2)\n",
      "            (2): Linear(in_features=16, out_features=16, bias=True)\n",
      "            (3): LeakyReLU(negative_slope=0.2)\n",
      "            (4): Linear(in_features=16, out_features=16, bias=True)\n",
      "            (5): LeakyReLU(negative_slope=0.2)\n",
      "            (6): Linear(in_features=16, out_features=46, bias=True)\n",
      "          )\n",
      "        )\n",
      "        (f2): MLP(\n",
      "          (net): Sequential(\n",
      "            (0): Linear(in_features=2, out_features=16, bias=True)\n",
      "            (1): LeakyReLU(negative_slope=0.2)\n",
      "            (2): Linear(in_features=16, out_features=16, bias=True)\n",
      "            (3): LeakyReLU(negative_slope=0.2)\n",
      "            (4): Linear(in_features=16, out_features=16, bias=True)\n",
      "            (5): LeakyReLU(negative_slope=0.2)\n",
      "            (6): Linear(in_features=16, out_features=46, bias=True)\n",
      "          )\n",
      "        )\n",
      "      )\n",
      "      (6): ActNorm()\n",
      "      (7): Invertible1x1Conv()\n",
      "      (8): NSF_CL(\n",
      "        (f1): MLP(\n",
      "          (net): Sequential(\n",
      "            (0): Linear(in_features=2, out_features=16, bias=True)\n",
      "            (1): LeakyReLU(negative_slope=0.2)\n",
      "            (2): Linear(in_features=16, out_features=16, bias=True)\n",
      "            (3): LeakyReLU(negative_slope=0.2)\n",
      "            (4): Linear(in_features=16, out_features=16, bias=True)\n",
      "            (5): LeakyReLU(negative_slope=0.2)\n",
      "            (6): Linear(in_features=16, out_features=46, bias=True)\n",
      "          )\n",
      "        )\n",
      "        (f2): MLP(\n",
      "          (net): Sequential(\n",
      "            (0): Linear(in_features=2, out_features=16, bias=True)\n",
      "            (1): LeakyReLU(negative_slope=0.2)\n",
      "            (2): Linear(in_features=16, out_features=16, bias=True)\n",
      "            (3): LeakyReLU(negative_slope=0.2)\n",
      "            (4): Linear(in_features=16, out_features=16, bias=True)\n",
      "            (5): LeakyReLU(negative_slope=0.2)\n",
      "            (6): Linear(in_features=16, out_features=46, bias=True)\n",
      "          )\n",
      "        )\n",
      "      )\n",
      "    )\n",
      "  )\n",
      ")\n"
     ]
    },
    {
     "name": "stderr",
     "output_type": "stream",
     "text": [
      "INFO:nnest.trainer:SingleSpeedSpline(\n",
      "  (flow): NormalizingFlow(\n",
      "    (flows): ModuleList(\n",
      "      (0): ActNorm()\n",
      "      (1): Invertible1x1Conv()\n",
      "      (2): NSF_CL(\n",
      "        (f1): MLP(\n",
      "          (net): Sequential(\n",
      "            (0): Linear(in_features=2, out_features=16, bias=True)\n",
      "            (1): LeakyReLU(negative_slope=0.2)\n",
      "            (2): Linear(in_features=16, out_features=16, bias=True)\n",
      "            (3): LeakyReLU(negative_slope=0.2)\n",
      "            (4): Linear(in_features=16, out_features=16, bias=True)\n",
      "            (5): LeakyReLU(negative_slope=0.2)\n",
      "            (6): Linear(in_features=16, out_features=46, bias=True)\n",
      "          )\n",
      "        )\n",
      "        (f2): MLP(\n",
      "          (net): Sequential(\n",
      "            (0): Linear(in_features=2, out_features=16, bias=True)\n",
      "            (1): LeakyReLU(negative_slope=0.2)\n",
      "            (2): Linear(in_features=16, out_features=16, bias=True)\n",
      "            (3): LeakyReLU(negative_slope=0.2)\n",
      "            (4): Linear(in_features=16, out_features=16, bias=True)\n",
      "            (5): LeakyReLU(negative_slope=0.2)\n",
      "            (6): Linear(in_features=16, out_features=46, bias=True)\n",
      "          )\n",
      "        )\n",
      "      )\n",
      "      (3): ActNorm()\n",
      "      (4): Invertible1x1Conv()\n",
      "      (5): NSF_CL(\n",
      "        (f1): MLP(\n",
      "          (net): Sequential(\n",
      "            (0): Linear(in_features=2, out_features=16, bias=True)\n",
      "            (1): LeakyReLU(negative_slope=0.2)\n",
      "            (2): Linear(in_features=16, out_features=16, bias=True)\n",
      "            (3): LeakyReLU(negative_slope=0.2)\n",
      "            (4): Linear(in_features=16, out_features=16, bias=True)\n",
      "            (5): LeakyReLU(negative_slope=0.2)\n",
      "            (6): Linear(in_features=16, out_features=46, bias=True)\n",
      "          )\n",
      "        )\n",
      "        (f2): MLP(\n",
      "          (net): Sequential(\n",
      "            (0): Linear(in_features=2, out_features=16, bias=True)\n",
      "            (1): LeakyReLU(negative_slope=0.2)\n",
      "            (2): Linear(in_features=16, out_features=16, bias=True)\n",
      "            (3): LeakyReLU(negative_slope=0.2)\n",
      "            (4): Linear(in_features=16, out_features=16, bias=True)\n",
      "            (5): LeakyReLU(negative_slope=0.2)\n",
      "            (6): Linear(in_features=16, out_features=46, bias=True)\n",
      "          )\n",
      "        )\n",
      "      )\n",
      "      (6): ActNorm()\n",
      "      (7): Invertible1x1Conv()\n",
      "      (8): NSF_CL(\n",
      "        (f1): MLP(\n",
      "          (net): Sequential(\n",
      "            (0): Linear(in_features=2, out_features=16, bias=True)\n",
      "            (1): LeakyReLU(negative_slope=0.2)\n",
      "            (2): Linear(in_features=16, out_features=16, bias=True)\n",
      "            (3): LeakyReLU(negative_slope=0.2)\n",
      "            (4): Linear(in_features=16, out_features=16, bias=True)\n",
      "            (5): LeakyReLU(negative_slope=0.2)\n",
      "            (6): Linear(in_features=16, out_features=46, bias=True)\n",
      "          )\n",
      "        )\n",
      "        (f2): MLP(\n",
      "          (net): Sequential(\n",
      "            (0): Linear(in_features=2, out_features=16, bias=True)\n",
      "            (1): LeakyReLU(negative_slope=0.2)\n",
      "            (2): Linear(in_features=16, out_features=16, bias=True)\n",
      "            (3): LeakyReLU(negative_slope=0.2)\n",
      "            (4): Linear(in_features=16, out_features=16, bias=True)\n",
      "            (5): LeakyReLU(negative_slope=0.2)\n",
      "            (6): Linear(in_features=16, out_features=46, bias=True)\n",
      "          )\n",
      "        )\n",
      "      )\n",
      "    )\n",
      "  )\n",
      ")\n"
     ]
    },
    {
     "name": "stdout",
     "output_type": "stream",
     "text": [
      "[nnest.trainer] [INFO] Number of network params: [8376]\n"
     ]
    },
    {
     "name": "stderr",
     "output_type": "stream",
     "text": [
      "INFO:nnest.trainer:Number of network params: [8376]\n"
     ]
    },
    {
     "name": "stdout",
     "output_type": "stream",
     "text": [
      "[nnest.trainer] [INFO] Device [cpu]\n"
     ]
    },
    {
     "name": "stderr",
     "output_type": "stream",
     "text": [
      "INFO:nnest.trainer:Device [cpu]\n"
     ]
    },
    {
     "name": "stdout",
     "output_type": "stream",
     "text": [
      "[nnest.sampler] [INFO] Num base params [4]\n"
     ]
    },
    {
     "name": "stderr",
     "output_type": "stream",
     "text": [
      "INFO:nnest.sampler:Num base params [4]\n"
     ]
    },
    {
     "name": "stdout",
     "output_type": "stream",
     "text": [
      "[nnest.sampler] [INFO] Num derived params [0]\n"
     ]
    },
    {
     "name": "stderr",
     "output_type": "stream",
     "text": [
      "INFO:nnest.sampler:Num derived params [0]\n"
     ]
    },
    {
     "name": "stdout",
     "output_type": "stream",
     "text": [
      "[nnest.sampler] [INFO] Total params [4]\n"
     ]
    },
    {
     "name": "stderr",
     "output_type": "stream",
     "text": [
      "INFO:nnest.sampler:Total params [4]\n"
     ]
    }
   ],
   "source": [
    "sampler = MCMCSampler(like.x_dim, like, hidden_dim=16, num_blocks=3, flow='spline', prior=prior, run_num=1)"
   ]
  },
  {
   "cell_type": "code",
   "execution_count": 15,
   "metadata": {},
   "outputs": [
    {
     "name": "stdout",
     "output_type": "stream",
     "text": [
      "[nnest.sampler] [INFO] Alpha [0.5000]\n"
     ]
    },
    {
     "name": "stderr",
     "output_type": "stream",
     "text": [
      "INFO:nnest.sampler:Alpha [0.5000]\n"
     ]
    },
    {
     "name": "stdout",
     "output_type": "stream",
     "text": [
      "[nnest.trainer] [INFO] Number of training samples [392]\n"
     ]
    },
    {
     "name": "stderr",
     "output_type": "stream",
     "text": [
      "INFO:nnest.trainer:Number of training samples [392]\n"
     ]
    },
    {
     "name": "stdout",
     "output_type": "stream",
     "text": [
      "[nnest.trainer] [INFO] Training jitter [0.0100]\n"
     ]
    },
    {
     "name": "stderr",
     "output_type": "stream",
     "text": [
      "INFO:nnest.trainer:Training jitter [0.0100]\n"
     ]
    },
    {
     "name": "stdout",
     "output_type": "stream",
     "text": [
      "[nnest.trainer] [INFO] Epoch [1] train loss [0.0544] validation loss [0.1361]\n"
     ]
    },
    {
     "name": "stderr",
     "output_type": "stream",
     "text": [
      "INFO:nnest.trainer:Epoch [1] train loss [0.0544] validation loss [0.1361]\n"
     ]
    },
    {
     "name": "stdout",
     "output_type": "stream",
     "text": [
      "[nnest.trainer] [INFO] Epoch [50] train loss [0.0364] validation loss [0.0913]\n"
     ]
    },
    {
     "name": "stderr",
     "output_type": "stream",
     "text": [
      "INFO:nnest.trainer:Epoch [50] train loss [0.0364] validation loss [0.0913]\n"
     ]
    },
    {
     "name": "stdout",
     "output_type": "stream",
     "text": [
      "[nnest.trainer] [INFO] Epoch [100] train loss [0.0205] validation loss [0.0553]\n"
     ]
    },
    {
     "name": "stderr",
     "output_type": "stream",
     "text": [
      "INFO:nnest.trainer:Epoch [100] train loss [0.0205] validation loss [0.0553]\n"
     ]
    },
    {
     "name": "stdout",
     "output_type": "stream",
     "text": [
      "[nnest.trainer] [INFO] Epoch [150] train loss [0.0140] validation loss [0.0455]\n"
     ]
    },
    {
     "name": "stderr",
     "output_type": "stream",
     "text": [
      "INFO:nnest.trainer:Epoch [150] train loss [0.0140] validation loss [0.0455]\n"
     ]
    },
    {
     "name": "stdout",
     "output_type": "stream",
     "text": [
      "[nnest.trainer] [INFO] Epoch [200] train loss [0.0114] validation loss [0.0389]\n"
     ]
    },
    {
     "name": "stderr",
     "output_type": "stream",
     "text": [
      "INFO:nnest.trainer:Epoch [200] train loss [0.0114] validation loss [0.0389]\n"
     ]
    },
    {
     "name": "stdout",
     "output_type": "stream",
     "text": [
      "[nnest.trainer] [INFO] Epoch [250] train loss [0.0101] validation loss [0.0351]\n"
     ]
    },
    {
     "name": "stderr",
     "output_type": "stream",
     "text": [
      "INFO:nnest.trainer:Epoch [250] train loss [0.0101] validation loss [0.0351]\n"
     ]
    },
    {
     "name": "stdout",
     "output_type": "stream",
     "text": [
      "[nnest.trainer] [INFO] Epoch [300] train loss [0.0087] validation loss [0.0325]\n"
     ]
    },
    {
     "name": "stderr",
     "output_type": "stream",
     "text": [
      "INFO:nnest.trainer:Epoch [300] train loss [0.0087] validation loss [0.0325]\n"
     ]
    },
    {
     "name": "stdout",
     "output_type": "stream",
     "text": [
      "[nnest.trainer] [INFO] Epoch [350] train loss [0.0082] validation loss [0.0306]\n"
     ]
    },
    {
     "name": "stderr",
     "output_type": "stream",
     "text": [
      "INFO:nnest.trainer:Epoch [350] train loss [0.0082] validation loss [0.0306]\n"
     ]
    },
    {
     "name": "stdout",
     "output_type": "stream",
     "text": [
      "[nnest.trainer] [INFO] Epoch [400] train loss [0.0066] validation loss [0.0299]\n"
     ]
    },
    {
     "name": "stderr",
     "output_type": "stream",
     "text": [
      "INFO:nnest.trainer:Epoch [400] train loss [0.0066] validation loss [0.0299]\n"
     ]
    },
    {
     "name": "stdout",
     "output_type": "stream",
     "text": [
      "[nnest.trainer] [INFO] Epoch [450] train loss [0.0060] validation loss [0.0301]\n"
     ]
    },
    {
     "name": "stderr",
     "output_type": "stream",
     "text": [
      "INFO:nnest.trainer:Epoch [450] train loss [0.0060] validation loss [0.0301]\n"
     ]
    },
    {
     "name": "stdout",
     "output_type": "stream",
     "text": [
      "[nnest.trainer] [INFO] Epoch [454] ran out of patience\n"
     ]
    },
    {
     "name": "stderr",
     "output_type": "stream",
     "text": [
      "INFO:nnest.trainer:Epoch [454] ran out of patience\n"
     ]
    },
    {
     "name": "stdout",
     "output_type": "stream",
     "text": [
      "[nnest.trainer] [INFO] Best epoch [404] validation loss [0.0298]\n"
     ]
    },
    {
     "name": "stderr",
     "output_type": "stream",
     "text": [
      "INFO:nnest.trainer:Best epoch [404] validation loss [0.0298]\n"
     ]
    },
    {
     "name": "stdout",
     "output_type": "stream",
     "text": [
      "[nnest.sampler] [INFO] Step [200] acceptance [0.3560] min ESS [17.8056] max ESS [27.8335] average jump [0.0743]\n"
     ]
    },
    {
     "name": "stderr",
     "output_type": "stream",
     "text": [
      "INFO:nnest.sampler:Step [200] acceptance [0.3560] min ESS [17.8056] max ESS [27.8335] average jump [0.0743]\n"
     ]
    },
    {
     "name": "stdout",
     "output_type": "stream",
     "text": [
      "[nnest.sampler] [INFO] Step [400] acceptance [0.3615] min ESS [6.1146] max ESS [14.3921] average jump [0.0713]\n"
     ]
    },
    {
     "name": "stderr",
     "output_type": "stream",
     "text": [
      "INFO:nnest.sampler:Step [400] acceptance [0.3615] min ESS [6.1146] max ESS [14.3921] average jump [0.0713]\n"
     ]
    },
    {
     "name": "stdout",
     "output_type": "stream",
     "text": [
      "[nnest.sampler] [INFO] Step [600] acceptance [0.3470] min ESS [5.4844] max ESS [17.3204] average jump [0.0707]\n"
     ]
    },
    {
     "name": "stderr",
     "output_type": "stream",
     "text": [
      "INFO:nnest.sampler:Step [600] acceptance [0.3470] min ESS [5.4844] max ESS [17.3204] average jump [0.0707]\n"
     ]
    },
    {
     "name": "stdout",
     "output_type": "stream",
     "text": [
      "[nnest.sampler] [INFO] Step [800] acceptance [0.3530] min ESS [7.7482] max ESS [23.9743] average jump [0.0719]\n"
     ]
    },
    {
     "name": "stderr",
     "output_type": "stream",
     "text": [
      "INFO:nnest.sampler:Step [800] acceptance [0.3530] min ESS [7.7482] max ESS [23.9743] average jump [0.0719]\n"
     ]
    },
    {
     "name": "stdout",
     "output_type": "stream",
     "text": [
      "[nnest.sampler] [INFO] Step [1000] acceptance [0.3578] min ESS [6.7180] max ESS [24.8442] average jump [0.0715]\n"
     ]
    },
    {
     "name": "stderr",
     "output_type": "stream",
     "text": [
      "INFO:nnest.sampler:Step [1000] acceptance [0.3578] min ESS [6.7180] max ESS [24.8442] average jump [0.0715]\n"
     ]
    },
    {
     "name": "stdout",
     "output_type": "stream",
     "text": [
      "[nnest.sampler] [INFO] Step [1200] acceptance [0.3522] min ESS [8.4282] max ESS [40.2796] average jump [0.0712]\n"
     ]
    },
    {
     "name": "stderr",
     "output_type": "stream",
     "text": [
      "INFO:nnest.sampler:Step [1200] acceptance [0.3522] min ESS [8.4282] max ESS [40.2796] average jump [0.0712]\n"
     ]
    },
    {
     "name": "stdout",
     "output_type": "stream",
     "text": [
      "[nnest.sampler] [INFO] Step [1400] acceptance [0.3451] min ESS [11.0538] max ESS [49.7235] average jump [0.0712]\n"
     ]
    },
    {
     "name": "stderr",
     "output_type": "stream",
     "text": [
      "INFO:nnest.sampler:Step [1400] acceptance [0.3451] min ESS [11.0538] max ESS [49.7235] average jump [0.0712]\n"
     ]
    },
    {
     "name": "stdout",
     "output_type": "stream",
     "text": [
      "[nnest.sampler] [INFO] Step [1600] acceptance [0.3469] min ESS [15.6993] max ESS [43.1744] average jump [0.0722]\n"
     ]
    },
    {
     "name": "stderr",
     "output_type": "stream",
     "text": [
      "INFO:nnest.sampler:Step [1600] acceptance [0.3469] min ESS [15.6993] max ESS [43.1744] average jump [0.0722]\n"
     ]
    },
    {
     "name": "stdout",
     "output_type": "stream",
     "text": [
      "[nnest.sampler] [INFO] Step [1800] acceptance [0.3453] min ESS [19.8630] max ESS [50.6999] average jump [0.0716]\n"
     ]
    },
    {
     "name": "stderr",
     "output_type": "stream",
     "text": [
      "INFO:nnest.sampler:Step [1800] acceptance [0.3453] min ESS [19.8630] max ESS [50.6999] average jump [0.0716]\n"
     ]
    },
    {
     "name": "stdout",
     "output_type": "stream",
     "text": [
      "[nnest.sampler] [INFO] Step [2000] acceptance [0.3425] min ESS [25.2223] max ESS [61.1219] average jump [0.0715]\n"
     ]
    },
    {
     "name": "stderr",
     "output_type": "stream",
     "text": [
      "INFO:nnest.sampler:Step [2000] acceptance [0.3425] min ESS [25.2223] max ESS [61.1219] average jump [0.0715]\n"
     ]
    },
    {
     "name": "stdout",
     "output_type": "stream",
     "text": [
      "[nnest.sampler] [INFO] Step [2200] acceptance [0.3472] min ESS [30.9298] max ESS [65.4946] average jump [0.0725]\n"
     ]
    },
    {
     "name": "stderr",
     "output_type": "stream",
     "text": [
      "INFO:nnest.sampler:Step [2200] acceptance [0.3472] min ESS [30.9298] max ESS [65.4946] average jump [0.0725]\n"
     ]
    },
    {
     "name": "stdout",
     "output_type": "stream",
     "text": [
      "[nnest.sampler] [INFO] Step [2400] acceptance [0.3464] min ESS [31.4477] max ESS [77.1330] average jump [0.0730]\n"
     ]
    },
    {
     "name": "stderr",
     "output_type": "stream",
     "text": [
      "INFO:nnest.sampler:Step [2400] acceptance [0.3464] min ESS [31.4477] max ESS [77.1330] average jump [0.0730]\n"
     ]
    },
    {
     "name": "stdout",
     "output_type": "stream",
     "text": [
      "[nnest.sampler] [INFO] Step [2600] acceptance [0.3419] min ESS [36.1823] max ESS [82.2931] average jump [0.0716]\n"
     ]
    },
    {
     "name": "stderr",
     "output_type": "stream",
     "text": [
      "INFO:nnest.sampler:Step [2600] acceptance [0.3419] min ESS [36.1823] max ESS [82.2931] average jump [0.0716]\n"
     ]
    },
    {
     "name": "stdout",
     "output_type": "stream",
     "text": [
      "[nnest.sampler] [INFO] Step [2800] acceptance [0.3459] min ESS [39.4838] max ESS [92.3309] average jump [0.0726]\n"
     ]
    },
    {
     "name": "stderr",
     "output_type": "stream",
     "text": [
      "INFO:nnest.sampler:Step [2800] acceptance [0.3459] min ESS [39.4838] max ESS [92.3309] average jump [0.0726]\n"
     ]
    },
    {
     "name": "stdout",
     "output_type": "stream",
     "text": [
      "[nnest.sampler] [INFO] Step [3000] acceptance [0.3450] min ESS [42.4424] max ESS [98.6736] average jump [0.0723]\n"
     ]
    },
    {
     "name": "stderr",
     "output_type": "stream",
     "text": [
      "INFO:nnest.sampler:Step [3000] acceptance [0.3450] min ESS [42.4424] max ESS [98.6736] average jump [0.0723]\n"
     ]
    },
    {
     "name": "stdout",
     "output_type": "stream",
     "text": [
      "[nnest.sampler] [INFO] Step [3200] acceptance [0.3456] min ESS [46.4886] max ESS [105.9394] average jump [0.0722]\n"
     ]
    },
    {
     "name": "stderr",
     "output_type": "stream",
     "text": [
      "INFO:nnest.sampler:Step [3200] acceptance [0.3456] min ESS [46.4886] max ESS [105.9394] average jump [0.0722]\n"
     ]
    },
    {
     "name": "stdout",
     "output_type": "stream",
     "text": [
      "[nnest.sampler] [INFO] Step [3400] acceptance [0.3433] min ESS [50.6773] max ESS [115.4387] average jump [0.0715]\n"
     ]
    },
    {
     "name": "stderr",
     "output_type": "stream",
     "text": [
      "INFO:nnest.sampler:Step [3400] acceptance [0.3433] min ESS [50.6773] max ESS [115.4387] average jump [0.0715]\n"
     ]
    },
    {
     "name": "stdout",
     "output_type": "stream",
     "text": [
      "[nnest.sampler] [INFO] Step [3600] acceptance [0.3415] min ESS [55.4068] max ESS [122.2080] average jump [0.0713]\n"
     ]
    },
    {
     "name": "stderr",
     "output_type": "stream",
     "text": [
      "INFO:nnest.sampler:Step [3600] acceptance [0.3415] min ESS [55.4068] max ESS [122.2080] average jump [0.0713]\n"
     ]
    },
    {
     "name": "stdout",
     "output_type": "stream",
     "text": [
      "[nnest.sampler] [INFO] Step [3800] acceptance [0.3432] min ESS [60.2052] max ESS [129.8493] average jump [0.0718]\n"
     ]
    },
    {
     "name": "stderr",
     "output_type": "stream",
     "text": [
      "INFO:nnest.sampler:Step [3800] acceptance [0.3432] min ESS [60.2052] max ESS [129.8493] average jump [0.0718]\n"
     ]
    },
    {
     "name": "stdout",
     "output_type": "stream",
     "text": [
      "[nnest.sampler] [INFO] Step [4000] acceptance [0.3447] min ESS [61.3356] max ESS [146.3188] average jump [0.0725]\n"
     ]
    },
    {
     "name": "stderr",
     "output_type": "stream",
     "text": [
      "INFO:nnest.sampler:Step [4000] acceptance [0.3447] min ESS [61.3356] max ESS [146.3188] average jump [0.0725]\n"
     ]
    },
    {
     "name": "stdout",
     "output_type": "stream",
     "text": [
      "[nnest.sampler] [INFO] Step [4200] acceptance [0.3441] min ESS [67.1850] max ESS [154.2326] average jump [0.0729]\n"
     ]
    },
    {
     "name": "stderr",
     "output_type": "stream",
     "text": [
      "INFO:nnest.sampler:Step [4200] acceptance [0.3441] min ESS [67.1850] max ESS [154.2326] average jump [0.0729]\n"
     ]
    },
    {
     "name": "stdout",
     "output_type": "stream",
     "text": [
      "[nnest.sampler] [INFO] Step [4400] acceptance [0.3442] min ESS [73.6897] max ESS [162.4284] average jump [0.0729]\n"
     ]
    },
    {
     "name": "stderr",
     "output_type": "stream",
     "text": [
      "INFO:nnest.sampler:Step [4400] acceptance [0.3442] min ESS [73.6897] max ESS [162.4284] average jump [0.0729]\n"
     ]
    },
    {
     "name": "stdout",
     "output_type": "stream",
     "text": [
      "[nnest.sampler] [INFO] Step [4600] acceptance [0.3437] min ESS [73.6441] max ESS [169.0132] average jump [0.0728]\n"
     ]
    },
    {
     "name": "stderr",
     "output_type": "stream",
     "text": [
      "INFO:nnest.sampler:Step [4600] acceptance [0.3437] min ESS [73.6441] max ESS [169.0132] average jump [0.0728]\n"
     ]
    },
    {
     "name": "stdout",
     "output_type": "stream",
     "text": [
      "[nnest.sampler] [INFO] Step [4800] acceptance [0.3457] min ESS [78.9289] max ESS [178.2673] average jump [0.0728]\n"
     ]
    },
    {
     "name": "stderr",
     "output_type": "stream",
     "text": [
      "INFO:nnest.sampler:Step [4800] acceptance [0.3457] min ESS [78.9289] max ESS [178.2673] average jump [0.0728]\n"
     ]
    },
    {
     "name": "stdout",
     "output_type": "stream",
     "text": [
      "[nnest.sampler] [INFO] Step [5000] acceptance [0.3470] min ESS [85.0040] max ESS [188.8329] average jump [0.0732]\n"
     ]
    },
    {
     "name": "stderr",
     "output_type": "stream",
     "text": [
      "INFO:nnest.sampler:Step [5000] acceptance [0.3470] min ESS [85.0040] max ESS [188.8329] average jump [0.0732]\n"
     ]
    },
    {
     "name": "stdout",
     "output_type": "stream",
     "text": [
      "ncall: 17393\n",
      "\n"
     ]
    }
   ],
   "source": [
    "sampler.run(init_samples=init_samples, bootstrap_iters=0)"
   ]
  },
  {
   "cell_type": "code",
   "execution_count": 16,
   "metadata": {},
   "outputs": [],
   "source": [
    "samples = [sampler.samples[i, :, :].squeeze() for i in range(sampler.samples.shape[0])]\n",
    "latent_samples = [sampler.latent_samples[i, :, :].squeeze() for i in range(sampler.latent_samples.shape[0])]\n",
    "loglikes = [sampler.loglikes[i, :].squeeze() for i in range(sampler.loglikes.shape[0])]"
   ]
  },
  {
   "cell_type": "code",
   "execution_count": 17,
   "metadata": {},
   "outputs": [
    {
     "name": "stdout",
     "output_type": "stream",
     "text": [
      "Removed no burn in\n"
     ]
    }
   ],
   "source": [
    "mc = MCSamples(samples=samples, loglikes=loglikes)"
   ]
  },
  {
   "cell_type": "code",
   "execution_count": 18,
   "metadata": {},
   "outputs": [
    {
     "name": "stdout",
     "output_type": "stream",
     "text": [
      "186.34318330621858\n",
      "Marginalized limits: 0.68; 0.95; 0.99\n",
      "\n",
      "parameter   mean           sddev          lower1         upper1         limit1 lower2         upper2         limit2 lower3         upper3         limit3 \n",
      "param1      6.3543649E-01  4.4909009E-01  6.0013927E-01  1.0500393E+00  two   -8.9950902E-01  1.1081816E+00  two   -9.4223515E-01  1.1213019E+00  two     p_{1}\n",
      "param2      6.0105935E-01  3.1595901E-01  4.0386310E-01  1.0282642E+00  two   -6.6466034E-03  1.0691491E+00  two   -1.0415448E-01  1.1346210E+00  two     p_{2}\n",
      "param3      4.6353657E-01  3.4585574E-01 -1.1003156E-02  8.8040541E-01  two   -9.1773123E-02  1.0621888E+00  two   -1.6118388E-01  1.1857683E+00  two     p_{3}\n",
      "param4      3.3118556E-01  3.5421193E-01 -9.4929960E-02  7.4795102E-01  two   -1.3118570E-01  1.0284618E+00  two   -1.7099156E-01  1.3179390E+00  two     p_{4}\n",
      "\n",
      "Parameter autocorrelation lengths (effective number of samples N_eff = tot weight/weight length)\n",
      "\n",
      "            Weight Length   Sample length           N_eff\n",
      "param1           1.24E+02          123.96             201\n",
      "param2           9.01E+01           90.08             277\n",
      "param3           1.09E+02          108.63             230\n",
      "param4           1.48E+02          147.76             169\n",
      "\n",
      "\n",
      "mean convergence stats using remaining chains\n",
      "param sqrt(var(chain mean)/mean(chain var))\n",
      "\n",
      "param1        0.1924  p_{1}\n",
      "param2        0.1046  p_{2}\n",
      "param3        0.1197  p_{3}\n",
      "param4        0.1503  p_{4}\n",
      "\n",
      "var(mean)/mean(var) for eigenvalues of covariance of y of orthonormalized parameters\n",
      "  1      0.00047\n",
      "  2      0.01216\n",
      "  3      0.02198\n",
      "  4      0.05071\n",
      "\n",
      "Split tests: rms_n([delta(upper/lower quantile)]/sd) n={2,3,4}, limit=95%:\n",
      "i.e. mean sample splitting change in the quantiles in units of the st. dev.\n",
      "\n",
      "param1       0.0008   0.0147   0.0156 upper\n",
      "param1       0.1489   0.6164   0.2853 lower\n",
      "param2       0.0201   0.0184   0.0373 upper\n",
      "param2       0.0750   0.0531   0.0891 lower\n",
      "param3       0.0199   0.0349   0.0757 upper\n",
      "param3       0.0329   0.0419   0.0430 lower\n",
      "param4       0.1132   0.1121   0.1576 upper\n",
      "param4       0.0333   0.0401   0.0461 lower\n",
      "\n",
      "Raftery&Lewis statistics\n",
      "\n",
      "chain  markov_thin  indep_thin    nburn\n",
      "   0           4          19          92\n",
      "   1           1          32         126\n",
      "   2           3          21         108\n",
      "   3           1          54         472\n",
      "   4           1          49         218\n",
      "\n",
      "\n"
     ]
    }
   ],
   "source": [
    "print(mc.getEffectiveSamples())\n",
    "print(mc.getMargeStats())\n",
    "print(mc.getConvergeTests())"
   ]
  },
  {
   "cell_type": "code",
   "execution_count": 19,
   "metadata": {},
   "outputs": [
    {
     "data": {
      "image/png": "[encoded data removed]",
      "text/plain": [
       "<Figure size 576x576 with 10 Axes>"
      ]
     },
     "metadata": {
      "image/png": {
       "height": 564,
       "width": 565
      },
      "needs_background": "light"
     },
     "output_type": "display_data"
    }
   ],
   "source": [
    "g = plots.getSubplotPlotter(width_inch=8)\n",
    "g.triangle_plot(mc, filled=True)"
   ]
  },
  {
   "cell_type": "code",
   "execution_count": null,
   "metadata": {},
   "outputs": [],
   "source": []
  }
 ],
 "metadata": {
  "kernelspec": {
   "display_name": "Python 3",
   "language": "python",
   "name": "python3"
  },
  "language_info": {
   "codemirror_mode": {
    "name": "ipython",
    "version": 3
   },
   "file_extension": ".py",
   "mimetype": "text/x-python",
   "name": "python",
   "nbconvert_exporter": "python",
   "pygments_lexer": "ipython3",
   "version": "3.8.3"
  }
 },
 "nbformat": 4,
 "nbformat_minor": 4
}
