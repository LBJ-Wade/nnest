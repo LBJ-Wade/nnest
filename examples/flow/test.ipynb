{
 "cells": [
  {
   "cell_type": "code",
   "execution_count": 1,
   "metadata": {},
   "outputs": [],
   "source": [
    "import os\n",
    "import sys\n",
    "import argparse\n",
    "import torch\n",
    "from getdist import plots, MCSamples\n",
    "import getdist\n",
    "import numpy as np\n",
    "import matplotlib.pyplot as plt\n",
    "from scipy.stats import multivariate_normal"
   ]
  },
  {
   "cell_type": "code",
   "execution_count": 2,
   "metadata": {},
   "outputs": [],
   "source": [
    "path = os.path.realpath(os.path.join(os.getcwd(), '../..'))\n",
    "sys.path.insert(0, path)"
   ]
  },
  {
   "cell_type": "code",
   "execution_count": 3,
   "metadata": {},
   "outputs": [],
   "source": [
    "from nnest.trainer import Trainer"
   ]
  },
  {
   "cell_type": "code",
   "execution_count": 4,
   "metadata": {},
   "outputs": [],
   "source": [
    "dims = 3"
   ]
  },
  {
   "cell_type": "code",
   "execution_count": 5,
   "metadata": {},
   "outputs": [],
   "source": [
    "test_data = np.random.normal(size=(10, dims))\n",
    "test_data = torch.from_numpy(test_data).float()"
   ]
  },
  {
   "cell_type": "code",
   "execution_count": 6,
   "metadata": {},
   "outputs": [
    {
     "name": "stdout",
     "output_type": "stream",
     "text": [
      "[nnest.trainer] [INFO] SingleSpeedNVP(\n",
      "  (flow): NormalizingFlow(\n",
      "    (flows): ModuleList(\n",
      "      (0): CouplingLayer(\n",
      "        (scale_net): Sequential(\n",
      "          (0): Linear(in_features=3, out_features=64, bias=True)\n",
      "          (1): Tanh()\n",
      "          (2): Linear(in_features=64, out_features=64, bias=True)\n",
      "          (3): Tanh()\n",
      "          (4): Linear(in_features=64, out_features=3, bias=True)\n",
      "        )\n",
      "        (translate_net): Sequential(\n",
      "          (0): Linear(in_features=3, out_features=64, bias=True)\n",
      "          (1): ReLU()\n",
      "          (2): Linear(in_features=64, out_features=64, bias=True)\n",
      "          (3): ReLU()\n",
      "          (4): Linear(in_features=64, out_features=3, bias=True)\n",
      "        )\n",
      "      )\n",
      "      (1): CouplingLayer(\n",
      "        (scale_net): Sequential(\n",
      "          (0): Linear(in_features=3, out_features=64, bias=True)\n",
      "          (1): Tanh()\n",
      "          (2): Linear(in_features=64, out_features=64, bias=True)\n",
      "          (3): Tanh()\n",
      "          (4): Linear(in_features=64, out_features=3, bias=True)\n",
      "        )\n",
      "        (translate_net): Sequential(\n",
      "          (0): Linear(in_features=3, out_features=64, bias=True)\n",
      "          (1): ReLU()\n",
      "          (2): Linear(in_features=64, out_features=64, bias=True)\n",
      "          (3): ReLU()\n",
      "          (4): Linear(in_features=64, out_features=3, bias=True)\n",
      "        )\n",
      "      )\n",
      "    )\n",
      "  )\n",
      ")\n",
      "[nnest.trainer] [INFO] Number of network params: [18444]\n",
      "[nnest.trainer] [INFO] Device [cpu]\n",
      "[nnest.trainer] [INFO] SingleSpeedSpline(\n",
      "  (flow): NormalizingFlow(\n",
      "    (flows): ModuleList(\n",
      "      (0): ActNorm()\n",
      "      (1): Invertible1x1Conv()\n",
      "      (2): NSF_CL(\n",
      "        (f1): MLP(\n",
      "          (net): Sequential(\n",
      "            (0): Linear(in_features=2, out_features=64, bias=True)\n",
      "            (1): LeakyReLU(negative_slope=0.2)\n",
      "            (2): Linear(in_features=64, out_features=64, bias=True)\n",
      "            (3): LeakyReLU(negative_slope=0.2)\n",
      "            (4): Linear(in_features=64, out_features=64, bias=True)\n",
      "            (5): LeakyReLU(negative_slope=0.2)\n",
      "            (6): Linear(in_features=64, out_features=23, bias=True)\n",
      "          )\n",
      "        )\n",
      "        (f2): MLP(\n",
      "          (net): Sequential(\n",
      "            (0): Linear(in_features=1, out_features=64, bias=True)\n",
      "            (1): LeakyReLU(negative_slope=0.2)\n",
      "            (2): Linear(in_features=64, out_features=64, bias=True)\n",
      "            (3): LeakyReLU(negative_slope=0.2)\n",
      "            (4): Linear(in_features=64, out_features=64, bias=True)\n",
      "            (5): LeakyReLU(negative_slope=0.2)\n",
      "            (6): Linear(in_features=64, out_features=46, bias=True)\n",
      "          )\n",
      "        )\n",
      "      )\n",
      "    )\n",
      "  )\n",
      ")\n",
      "[nnest.trainer] [INFO] Number of network params: [21472]\n",
      "[nnest.trainer] [INFO] Device [cpu]\n"
     ]
    }
   ],
   "source": [
    "trainers = []\n",
    "trainers.append(Trainer(dims, 64,  num_blocks=2, num_layers=1, flow='nvp'))\n",
    "trainers.append(Trainer(dims, 64,  num_blocks=1, flow='spline'))"
   ]
  },
  {
   "cell_type": "code",
   "execution_count": 7,
   "metadata": {},
   "outputs": [
    {
     "name": "stdout",
     "output_type": "stream",
     "text": [
      "tensor([[-1.8343,  0.6900, -1.4740],\n",
      "        [-0.0091, -0.5250, -0.3054],\n",
      "        [-0.6794,  0.2499,  0.4996],\n",
      "        [-0.2760,  0.6545, -0.3609],\n",
      "        [ 0.3404,  0.6093, -1.6958],\n",
      "        [-1.2276, -0.3060, -0.3729],\n",
      "        [-1.5211,  1.3302, -1.9556],\n",
      "        [ 1.6214, -0.0992, -0.0880],\n",
      "        [ 0.2185,  1.4612,  0.7142],\n",
      "        [-0.0150,  0.4572, -0.4496]])\n",
      "tensor([0., 1., 0.])\n",
      "tensor([[-1.7745,  0.6900, -1.3806],\n",
      "        [-0.0732, -0.5250, -0.3471],\n",
      "        [-0.7393,  0.2499,  0.4646],\n",
      "        [-0.3954,  0.6545, -0.3331],\n",
      "        [ 0.1560,  0.6093, -1.5882],\n",
      "        [-1.2530, -0.3060, -0.3922],\n",
      "        [-1.5230,  1.3302, -1.8501],\n",
      "        [ 1.4432, -0.0992, -0.1042],\n",
      "        [-0.0586,  1.4612,  0.6929],\n",
      "        [-0.1457,  0.4572, -0.4170]], grad_fn=<AddBackward0>)\n",
      "tensor([1., 0., 1.])\n",
      "torch.Size([10, 3]) torch.Size([10])\n",
      "torch.Size([10, 3]) torch.Size([10])\n",
      "tensor(1.1921e-07, grad_fn=<MaxBackward1>)\n",
      "tensor([[-1.8343,  0.6900, -1.4740],\n",
      "        [-0.0091, -0.5250, -0.3054],\n",
      "        [-0.6794,  0.2499,  0.4996],\n",
      "        [-0.2760,  0.6545, -0.3609],\n",
      "        [ 0.3404,  0.6093, -1.6958],\n",
      "        [-1.2276, -0.3060, -0.3729],\n",
      "        [-1.5211,  1.3302, -1.9556],\n",
      "        [ 1.6214, -0.0992, -0.0880],\n",
      "        [ 0.2185,  1.4612,  0.7142],\n",
      "        [-0.0150,  0.4572, -0.4496]])\n",
      "tensor([0., 1., 0.])\n",
      "tensor([[-1.7745,  0.6900, -1.3806],\n",
      "        [-0.0732, -0.5250, -0.3471],\n",
      "        [-0.7393,  0.2499,  0.4646],\n",
      "        [-0.3954,  0.6545, -0.3331],\n",
      "        [ 0.1560,  0.6093, -1.5882],\n",
      "        [-1.2530, -0.3060, -0.3922],\n",
      "        [-1.5230,  1.3302, -1.8501],\n",
      "        [ 1.4432, -0.0992, -0.1042],\n",
      "        [-0.0586,  1.4612,  0.6929],\n",
      "        [-0.1457,  0.4572, -0.4170]], grad_fn=<AddBackward0>)\n",
      "tensor([1., 0., 1.])\n",
      "torch.Size([10])\n",
      "torch.Size([10, 3])\n",
      "torch.Size([10, 3]) torch.Size([10])\n",
      "torch.Size([10, 3]) torch.Size([10])\n",
      "tensor(2.6822e-07, grad_fn=<MaxBackward1>)\n",
      "torch.Size([10])\n",
      "torch.Size([10, 3])\n"
     ]
    }
   ],
   "source": [
    "for t in trainers:\n",
    "    z, log_det = t.netG.forward(test_data)\n",
    "    print(z.shape, log_det.shape)\n",
    "    x, log_det = t.netG.inverse(z)\n",
    "    print(z.shape, log_det.shape)\n",
    "    print(torch.max(x - test_data))\n",
    "    log_probs = t.netG.log_probs(test_data)\n",
    "    print(log_probs.shape)\n",
    "    samples = t.netG.sample(10)\n",
    "    print(samples.shape)"
   ]
  },
  {
   "cell_type": "code",
   "execution_count": 8,
   "metadata": {},
   "outputs": [],
   "source": [
    "num_slow = 2\n",
    "num_fast = 3\n",
    "dims = num_slow + num_fast"
   ]
  },
  {
   "cell_type": "code",
   "execution_count": 9,
   "metadata": {},
   "outputs": [],
   "source": [
    "test_data = np.random.normal(size=(10, dims))\n",
    "test_data = torch.from_numpy(test_data).float()"
   ]
  },
  {
   "cell_type": "code",
   "execution_count": 10,
   "metadata": {},
   "outputs": [
    {
     "name": "stdout",
     "output_type": "stream",
     "text": [
      "tensor([0., 1., 0.])\n",
      "tensor([0., 1.])\n",
      "[nnest.trainer] [INFO] FastSlowNVP(\n",
      "  (fast_flow): NormalizingFlow(\n",
      "    (flows): ModuleList(\n",
      "      (0): CouplingLayer(\n",
      "        (scale_net): Sequential(\n",
      "          (0): Linear(in_features=2, out_features=64, bias=True)\n",
      "          (1): Tanh()\n",
      "          (2): Linear(in_features=64, out_features=64, bias=True)\n",
      "          (3): Tanh()\n",
      "          (4): Linear(in_features=64, out_features=2, bias=True)\n",
      "        )\n",
      "        (translate_net): Sequential(\n",
      "          (0): Linear(in_features=2, out_features=64, bias=True)\n",
      "          (1): ReLU()\n",
      "          (2): Linear(in_features=64, out_features=64, bias=True)\n",
      "          (3): ReLU()\n",
      "          (4): Linear(in_features=64, out_features=2, bias=True)\n",
      "        )\n",
      "      )\n",
      "    )\n",
      "  )\n",
      "  (slow_flow): NormalizingFlow(\n",
      "    (flows): ModuleList(\n",
      "      (0): CouplingLayer(\n",
      "        (scale_net): Sequential(\n",
      "          (0): Linear(in_features=3, out_features=64, bias=True)\n",
      "          (1): Tanh()\n",
      "          (2): Linear(in_features=64, out_features=64, bias=True)\n",
      "          (3): Tanh()\n",
      "          (4): Linear(in_features=64, out_features=3, bias=True)\n",
      "        )\n",
      "        (translate_net): Sequential(\n",
      "          (0): Linear(in_features=3, out_features=64, bias=True)\n",
      "          (1): ReLU()\n",
      "          (2): Linear(in_features=64, out_features=64, bias=True)\n",
      "          (3): ReLU()\n",
      "          (4): Linear(in_features=64, out_features=3, bias=True)\n",
      "        )\n",
      "      )\n",
      "    )\n",
      "  )\n",
      "  (flow): NormalizingFlow(\n",
      "    (flows): ModuleList(\n",
      "      (0): CouplingLayer(\n",
      "        (scale_net): Sequential(\n",
      "          (0): Linear(in_features=5, out_features=64, bias=True)\n",
      "          (1): Tanh()\n",
      "          (2): Linear(in_features=64, out_features=64, bias=True)\n",
      "          (3): Tanh()\n",
      "          (4): Linear(in_features=64, out_features=5, bias=True)\n",
      "        )\n",
      "        (translate_net): Sequential(\n",
      "          (0): Linear(in_features=5, out_features=64, bias=True)\n",
      "          (1): ReLU()\n",
      "          (2): Linear(in_features=64, out_features=64, bias=True)\n",
      "          (3): ReLU()\n",
      "          (4): Linear(in_features=64, out_features=5, bias=True)\n",
      "        )\n",
      "      )\n",
      "    )\n",
      "  )\n",
      ")\n",
      "[nnest.trainer] [INFO] Number of network params: [27924]\n",
      "[nnest.trainer] [INFO] Device [cpu]\n"
     ]
    }
   ],
   "source": [
    "trainers = []\n",
    "trainers.append(Trainer(dims, 64,  num_slow=num_slow, num_blocks=1, num_layers=1, flow='nvp'))\n",
    "#trainers.append(Trainer(dims, 64,  num_slow=num_slow, num_blocks=3, flow='spline'))"
   ]
  },
  {
   "cell_type": "code",
   "execution_count": 11,
   "metadata": {},
   "outputs": [
    {
     "name": "stdout",
     "output_type": "stream",
     "text": [
      "tensor([[-0.0046, -0.0734, -0.7463,  1.4833, -1.4420],\n",
      "        [ 0.8642,  0.0568,  0.4960, -0.1731, -0.5101],\n",
      "        [ 0.3077,  0.8890, -1.2339,  1.1464,  0.2806],\n",
      "        [ 1.0952, -0.0396,  1.4894, -0.8415, -1.7065],\n",
      "        [-0.4499,  2.1340,  0.2500, -1.2263,  1.2572],\n",
      "        [ 0.2208,  2.9792,  2.5698,  1.3756, -0.4611],\n",
      "        [-1.0325, -1.3342,  1.8551, -1.8485,  0.1847],\n",
      "        [-0.2020, -0.4421,  0.1139,  0.4386, -0.9212],\n",
      "        [ 0.0068,  1.4043, -0.8407, -0.0283,  0.7006],\n",
      "        [ 2.2954,  0.7273,  0.7321, -0.4663,  0.7272]])\n",
      "2\n",
      "tensor([[-0.0046, -0.0734],\n",
      "        [ 0.8642,  0.0568],\n",
      "        [ 0.3077,  0.8890],\n",
      "        [ 1.0952, -0.0396],\n",
      "        [-0.4499,  2.1340],\n",
      "        [ 0.2208,  2.9792],\n",
      "        [-1.0325, -1.3342],\n",
      "        [-0.2020, -0.4421],\n",
      "        [ 0.0068,  1.4043],\n",
      "        [ 2.2954,  0.7273]])\n",
      "tensor([[-0.0046, -0.0734],\n",
      "        [ 0.8642,  0.0568],\n",
      "        [ 0.3077,  0.8890],\n",
      "        [ 1.0952, -0.0396],\n",
      "        [-0.4499,  2.1340],\n",
      "        [ 0.2208,  2.9792],\n",
      "        [-1.0325, -1.3342],\n",
      "        [-0.2020, -0.4421],\n",
      "        [ 0.0068,  1.4043],\n",
      "        [ 2.2954,  0.7273]])\n",
      "tensor([0., 1., 0.])\n"
     ]
    },
    {
     "ename": "RuntimeError",
     "evalue": "The size of tensor a (2) must match the size of tensor b (3) at non-singleton dimension 1",
     "output_type": "error",
     "traceback": [
      "\u001b[0;31m---------------------------------------------------------------------------\u001b[0m",
      "\u001b[0;31mRuntimeError\u001b[0m                              Traceback (most recent call last)",
      "\u001b[0;32m<ipython-input-11-94f313fceadd>\u001b[0m in \u001b[0;36m<module>\u001b[0;34m\u001b[0m\n\u001b[1;32m      1\u001b[0m \u001b[0;32mfor\u001b[0m \u001b[0mt\u001b[0m \u001b[0;32min\u001b[0m \u001b[0mtrainers\u001b[0m\u001b[0;34m:\u001b[0m\u001b[0;34m\u001b[0m\u001b[0;34m\u001b[0m\u001b[0m\n\u001b[0;32m----> 2\u001b[0;31m     \u001b[0mz\u001b[0m\u001b[0;34m,\u001b[0m \u001b[0mlog_det\u001b[0m \u001b[0;34m=\u001b[0m \u001b[0mt\u001b[0m\u001b[0;34m.\u001b[0m\u001b[0mnetG\u001b[0m\u001b[0;34m.\u001b[0m\u001b[0mforward\u001b[0m\u001b[0;34m(\u001b[0m\u001b[0mtest_data\u001b[0m\u001b[0;34m)\u001b[0m\u001b[0;34m\u001b[0m\u001b[0;34m\u001b[0m\u001b[0m\n\u001b[0m\u001b[1;32m      3\u001b[0m     \u001b[0mprint\u001b[0m\u001b[0;34m(\u001b[0m\u001b[0mz\u001b[0m\u001b[0;34m.\u001b[0m\u001b[0mshape\u001b[0m\u001b[0;34m,\u001b[0m \u001b[0mlog_det\u001b[0m\u001b[0;34m.\u001b[0m\u001b[0mshape\u001b[0m\u001b[0;34m)\u001b[0m\u001b[0;34m\u001b[0m\u001b[0;34m\u001b[0m\u001b[0m\n\u001b[1;32m      4\u001b[0m     \u001b[0mx\u001b[0m\u001b[0;34m,\u001b[0m \u001b[0mlog_det\u001b[0m \u001b[0;34m=\u001b[0m \u001b[0mt\u001b[0m\u001b[0;34m.\u001b[0m\u001b[0mnetG\u001b[0m\u001b[0;34m.\u001b[0m\u001b[0minverse\u001b[0m\u001b[0;34m(\u001b[0m\u001b[0mz\u001b[0m\u001b[0;34m)\u001b[0m\u001b[0;34m\u001b[0m\u001b[0;34m\u001b[0m\u001b[0m\n\u001b[1;32m      5\u001b[0m     \u001b[0mprint\u001b[0m\u001b[0;34m(\u001b[0m\u001b[0mz\u001b[0m\u001b[0;34m.\u001b[0m\u001b[0mshape\u001b[0m\u001b[0;34m,\u001b[0m \u001b[0mlog_det\u001b[0m\u001b[0;34m.\u001b[0m\u001b[0mshape\u001b[0m\u001b[0;34m)\u001b[0m\u001b[0;34m\u001b[0m\u001b[0;34m\u001b[0m\u001b[0m\n",
      "\u001b[0;32m~/work/code/MCMC/nnest/nnest/networks.py\u001b[0m in \u001b[0;36mforward\u001b[0;34m(self, inputs)\u001b[0m\n\u001b[1;32m    123\u001b[0m         \u001b[0mprint\u001b[0m\u001b[0;34m(\u001b[0m\u001b[0mself\u001b[0m\u001b[0;34m.\u001b[0m\u001b[0mnum_slow\u001b[0m\u001b[0;34m)\u001b[0m\u001b[0;34m\u001b[0m\u001b[0;34m\u001b[0m\u001b[0m\n\u001b[1;32m    124\u001b[0m         \u001b[0mprint\u001b[0m\u001b[0;34m(\u001b[0m\u001b[0minputs\u001b[0m\u001b[0;34m[\u001b[0m\u001b[0;34m:\u001b[0m\u001b[0;34m,\u001b[0m \u001b[0;34m:\u001b[0m\u001b[0mself\u001b[0m\u001b[0;34m.\u001b[0m\u001b[0mnum_slow\u001b[0m\u001b[0;34m]\u001b[0m\u001b[0;34m)\u001b[0m\u001b[0;34m\u001b[0m\u001b[0;34m\u001b[0m\u001b[0m\n\u001b[0;32m--> 125\u001b[0;31m         \u001b[0mslow\u001b[0m\u001b[0;34m,\u001b[0m \u001b[0mlogdets_slow\u001b[0m \u001b[0;34m=\u001b[0m \u001b[0mself\u001b[0m\u001b[0;34m.\u001b[0m\u001b[0mslow_flow\u001b[0m\u001b[0;34m.\u001b[0m\u001b[0mforward\u001b[0m\u001b[0;34m(\u001b[0m\u001b[0minputs\u001b[0m\u001b[0;34m[\u001b[0m\u001b[0;34m:\u001b[0m\u001b[0;34m,\u001b[0m \u001b[0;34m:\u001b[0m\u001b[0mself\u001b[0m\u001b[0;34m.\u001b[0m\u001b[0mnum_slow\u001b[0m\u001b[0;34m]\u001b[0m\u001b[0;34m)\u001b[0m\u001b[0;34m\u001b[0m\u001b[0;34m\u001b[0m\u001b[0m\n\u001b[0m\u001b[1;32m    126\u001b[0m         \u001b[0mfast\u001b[0m\u001b[0;34m,\u001b[0m \u001b[0mlogdets_fast\u001b[0m \u001b[0;34m=\u001b[0m \u001b[0mself\u001b[0m\u001b[0;34m.\u001b[0m\u001b[0mfast_flow\u001b[0m\u001b[0;34m.\u001b[0m\u001b[0mforward\u001b[0m\u001b[0;34m(\u001b[0m\u001b[0minputs\u001b[0m\u001b[0;34m[\u001b[0m\u001b[0;34m:\u001b[0m\u001b[0;34m,\u001b[0m \u001b[0mself\u001b[0m\u001b[0;34m.\u001b[0m\u001b[0mnum_slow\u001b[0m\u001b[0;34m:\u001b[0m\u001b[0;34m]\u001b[0m\u001b[0;34m)\u001b[0m\u001b[0;34m\u001b[0m\u001b[0;34m\u001b[0m\u001b[0m\n\u001b[1;32m    127\u001b[0m         \u001b[0minputs\u001b[0m \u001b[0;34m=\u001b[0m \u001b[0mtorch\u001b[0m\u001b[0;34m.\u001b[0m\u001b[0mcat\u001b[0m\u001b[0;34m(\u001b[0m\u001b[0;34m(\u001b[0m\u001b[0mslow\u001b[0m\u001b[0;34m,\u001b[0m \u001b[0mfast\u001b[0m\u001b[0;34m)\u001b[0m\u001b[0;34m,\u001b[0m \u001b[0mdim\u001b[0m\u001b[0;34m=\u001b[0m\u001b[0;36m1\u001b[0m\u001b[0;34m)\u001b[0m\u001b[0;34m\u001b[0m\u001b[0;34m\u001b[0m\u001b[0m\n",
      "\u001b[0;32m~/work/code/MCMC/nnest/nnest/networks.py\u001b[0m in \u001b[0;36mforward\u001b[0;34m(self, x)\u001b[0m\n\u001b[1;32m     27\u001b[0m         \u001b[0mzs\u001b[0m \u001b[0;34m=\u001b[0m \u001b[0;34m[\u001b[0m\u001b[0mx\u001b[0m\u001b[0;34m]\u001b[0m\u001b[0;34m\u001b[0m\u001b[0;34m\u001b[0m\u001b[0m\n\u001b[1;32m     28\u001b[0m         \u001b[0;32mfor\u001b[0m \u001b[0mflow\u001b[0m \u001b[0;32min\u001b[0m \u001b[0mself\u001b[0m\u001b[0;34m.\u001b[0m\u001b[0mflows\u001b[0m\u001b[0;34m:\u001b[0m\u001b[0;34m\u001b[0m\u001b[0;34m\u001b[0m\u001b[0m\n\u001b[0;32m---> 29\u001b[0;31m             \u001b[0mx\u001b[0m\u001b[0;34m,\u001b[0m \u001b[0mld\u001b[0m \u001b[0;34m=\u001b[0m \u001b[0mflow\u001b[0m\u001b[0;34m.\u001b[0m\u001b[0mforward\u001b[0m\u001b[0;34m(\u001b[0m\u001b[0mx\u001b[0m\u001b[0;34m)\u001b[0m\u001b[0;34m\u001b[0m\u001b[0;34m\u001b[0m\u001b[0m\n\u001b[0m\u001b[1;32m     30\u001b[0m             \u001b[0mlog_det\u001b[0m \u001b[0;34m+=\u001b[0m \u001b[0mld\u001b[0m\u001b[0;34m\u001b[0m\u001b[0;34m\u001b[0m\u001b[0m\n\u001b[1;32m     31\u001b[0m             \u001b[0mzs\u001b[0m\u001b[0;34m.\u001b[0m\u001b[0mappend\u001b[0m\u001b[0;34m(\u001b[0m\u001b[0mx\u001b[0m\u001b[0;34m)\u001b[0m\u001b[0;34m\u001b[0m\u001b[0;34m\u001b[0m\u001b[0m\n",
      "\u001b[0;32m~/work/code/MCMC/nnest/nnest/networks.py\u001b[0m in \u001b[0;36mforward\u001b[0;34m(self, inputs)\u001b[0m\n\u001b[1;32m    204\u001b[0m         \u001b[0mprint\u001b[0m\u001b[0;34m(\u001b[0m\u001b[0minputs\u001b[0m\u001b[0;34m)\u001b[0m\u001b[0;34m\u001b[0m\u001b[0;34m\u001b[0m\u001b[0m\n\u001b[1;32m    205\u001b[0m         \u001b[0mprint\u001b[0m\u001b[0;34m(\u001b[0m\u001b[0mmask\u001b[0m\u001b[0;34m)\u001b[0m\u001b[0;34m\u001b[0m\u001b[0;34m\u001b[0m\u001b[0m\n\u001b[0;32m--> 206\u001b[0;31m         \u001b[0mmasked_inputs\u001b[0m \u001b[0;34m=\u001b[0m \u001b[0minputs\u001b[0m \u001b[0;34m*\u001b[0m \u001b[0mmask\u001b[0m\u001b[0;34m\u001b[0m\u001b[0;34m\u001b[0m\u001b[0m\n\u001b[0m\u001b[1;32m    207\u001b[0m         \u001b[0mt\u001b[0m \u001b[0;34m=\u001b[0m \u001b[0mself\u001b[0m\u001b[0;34m.\u001b[0m\u001b[0mtranslate_net\u001b[0m\u001b[0;34m(\u001b[0m\u001b[0mmasked_inputs\u001b[0m\u001b[0;34m)\u001b[0m \u001b[0;34m*\u001b[0m \u001b[0;34m(\u001b[0m\u001b[0;36m1\u001b[0m \u001b[0;34m-\u001b[0m \u001b[0mmask\u001b[0m\u001b[0;34m)\u001b[0m\u001b[0;34m\u001b[0m\u001b[0;34m\u001b[0m\u001b[0m\n\u001b[1;32m    208\u001b[0m         \u001b[0;32mif\u001b[0m \u001b[0mself\u001b[0m\u001b[0;34m.\u001b[0m\u001b[0mtranslate_only\u001b[0m\u001b[0;34m:\u001b[0m\u001b[0;34m\u001b[0m\u001b[0;34m\u001b[0m\u001b[0m\n",
      "\u001b[0;31mRuntimeError\u001b[0m: The size of tensor a (2) must match the size of tensor b (3) at non-singleton dimension 1"
     ]
    }
   ],
   "source": [
    "for t in trainers:\n",
    "    z, log_det = t.netG.forward(test_data)\n",
    "    print(z.shape, log_det.shape)\n",
    "    x, log_det = t.netG.inverse(z)\n",
    "    print(z.shape, log_det.shape)\n",
    "    print(torch.max(x - test_data))\n",
    "    log_probs = t.netG.log_probs(test_data)\n",
    "    print(log_probs.shape)\n",
    "    samples = t.netG.sample(10)\n",
    "    print(samples.shape)\n",
    "    dz = torch.randn_like(z) * 0.01\n",
    "    dz[:, 0:num_slow] = 0.0\n",
    "    xp, log_det = t.netG.inverse(z+dz)\n",
    "    print(torch.max((x-xp)[:, 0:num_slow])) "
   ]
  },
  {
   "cell_type": "code",
   "execution_count": null,
   "metadata": {},
   "outputs": [],
   "source": []
  },
  {
   "cell_type": "code",
   "execution_count": null,
   "metadata": {},
   "outputs": [],
   "source": []
  }
 ],
 "metadata": {
  "kernelspec": {
   "display_name": "Python 3",
   "language": "python",
   "name": "python3"
  },
  "language_info": {
   "codemirror_mode": {
    "name": "ipython",
    "version": 3
   },
   "file_extension": ".py",
   "mimetype": "text/x-python",
   "name": "python",
   "nbconvert_exporter": "python",
   "pygments_lexer": "ipython3",
   "version": "3.7.6"
  }
 },
 "nbformat": 4,
 "nbformat_minor": 4
}
