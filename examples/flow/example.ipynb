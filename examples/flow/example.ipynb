{
 "cells": [
  {
   "cell_type": "code",
   "execution_count": 1,
   "metadata": {},
   "outputs": [],
   "source": [
    "import os\n",
    "import sys\n",
    "import argparse\n",
    "import torch\n",
    "from getdist import plots, MCSamples\n",
    "import getdist\n",
    "import numpy as np\n",
    "import matplotlib.pyplot as plt\n",
    "from scipy.stats import multivariate_normal"
   ]
  },
  {
   "cell_type": "code",
   "execution_count": 2,
   "metadata": {},
   "outputs": [],
   "source": [
    "path = os.path.realpath(os.path.join(os.getcwd(), '../..'))\n",
    "sys.path.insert(0, path)"
   ]
  },
  {
   "cell_type": "code",
   "execution_count": 3,
   "metadata": {},
   "outputs": [
    {
     "ename": "SyntaxError",
     "evalue": "invalid syntax (networks.py, line 207)",
     "output_type": "error",
     "traceback": [
      "Traceback \u001b[0;36m(most recent call last)\u001b[0m:\n",
      "  File \u001b[1;32m\"/Users/ppzam/anaconda/envs/flows/lib/python3.7/site-packages/IPython/core/interactiveshell.py\"\u001b[0m, line \u001b[1;32m3331\u001b[0m, in \u001b[1;35mrun_code\u001b[0m\n    exec(code_obj, self.user_global_ns, self.user_ns)\n",
      "  File \u001b[1;32m\"<ipython-input-3-19222212b656>\"\u001b[0m, line \u001b[1;32m1\u001b[0m, in \u001b[1;35m<module>\u001b[0m\n    from nnest.trainer import Trainer\n",
      "  File \u001b[1;32m\"/Users/ppzam/work/code/MCMC/nnest/nnest/__init__.py\"\u001b[0m, line \u001b[1;32m3\u001b[0m, in \u001b[1;35m<module>\u001b[0m\n    from nnest.nested import NestedSampler\n",
      "  File \u001b[1;32m\"/Users/ppzam/work/code/MCMC/nnest/nnest/nested.py\"\u001b[0m, line \u001b[1;32m19\u001b[0m, in \u001b[1;35m<module>\u001b[0m\n    from nnest.mcmc import MCMCSampler\n",
      "  File \u001b[1;32m\"/Users/ppzam/work/code/MCMC/nnest/nnest/mcmc.py\"\u001b[0m, line \u001b[1;32m23\u001b[0m, in \u001b[1;35m<module>\u001b[0m\n    from nnest.sampler import Sampler\n",
      "  File \u001b[1;32m\"/Users/ppzam/work/code/MCMC/nnest/nnest/sampler.py\"\u001b[0m, line \u001b[1;32m15\u001b[0m, in \u001b[1;35m<module>\u001b[0m\n    from nnest.trainer import Trainer\n",
      "\u001b[0;36m  File \u001b[0;32m\"/Users/ppzam/work/code/MCMC/nnest/nnest/trainer.py\"\u001b[0;36m, line \u001b[0;32m26\u001b[0;36m, in \u001b[0;35m<module>\u001b[0;36m\u001b[0m\n\u001b[0;31m    from nnest.networks import SingleSpeed, FastSlow, SingleSpeedSpline\u001b[0m\n",
      "\u001b[0;36m  File \u001b[0;32m\"/Users/ppzam/work/code/MCMC/nnest/nnest/networks.py\"\u001b[0;36m, line \u001b[0;32m207\u001b[0m\n\u001b[0;31m    self.net =\u001b[0m\n\u001b[0m              ^\u001b[0m\n\u001b[0;31mSyntaxError\u001b[0m\u001b[0;31m:\u001b[0m invalid syntax\n"
     ]
    }
   ],
   "source": [
    "from nnest.trainer import Trainer"
   ]
  },
  {
   "cell_type": "code",
   "execution_count": null,
   "metadata": {},
   "outputs": [],
   "source": [
    "%matplotlib inline\n",
    "%config InlineBackend.figure_format = 'retina'"
   ]
  },
  {
   "cell_type": "code",
   "execution_count": null,
   "metadata": {},
   "outputs": [],
   "source": [
    "# Himmelblau\n",
    "dims = 2\n",
    "def loglike(z):\n",
    "    z1 = z[:, 0]\n",
    "    z2 = z[:, 1]\n",
    "    return - (z1 ** 2 + z2 - 11.) ** 2 - (z1 + z2 ** 2 - 7.) ** 2\n",
    "def transform(x):\n",
    "    return 5. * x"
   ]
  },
  {
   "cell_type": "code",
   "execution_count": null,
   "metadata": {},
   "outputs": [],
   "source": [
    "# Rosenbrock\n",
    "#dims = 2\n",
    "#def loglike(z):\n",
    "#    return np.array([-sum(100.0 * (x[1:] - x[:-1] ** 2.0) ** 2.0 + (1 - x[:-1]) ** 2.0) for x in z])\n",
    "#def transform(x):\n",
    "#    return 5. * x"
   ]
  },
  {
   "cell_type": "code",
   "execution_count": null,
   "metadata": {},
   "outputs": [],
   "source": [
    "# Gauss\n",
    "#dims = 2\n",
    "#corr = 0.99\n",
    "#def loglike(x):\n",
    "#    return multivariate_normal.logpdf(x, mean=np.zeros(dims), cov=np.eye(dims) + corr * (1 - np.eye(dims)))\n",
    "#def transform(x):\n",
    "#    return 3. * x"
   ]
  },
  {
   "cell_type": "code",
   "execution_count": null,
   "metadata": {},
   "outputs": [],
   "source": [
    "# Eggbox\n",
    "def loglike(x):\n",
    "    chi = (np.cos(x[:,0] / 2.))*(np.cos(x[:,1] / 2.))\n",
    "    return (2. + chi)**5\n",
    "def transform(x):\n",
    "    return x * 5 * np.pi"
   ]
  },
  {
   "cell_type": "code",
   "execution_count": null,
   "metadata": {},
   "outputs": [],
   "source": [
    "n_samples = 1000\n",
    "fraction = 0.02"
   ]
  },
  {
   "cell_type": "code",
   "execution_count": null,
   "metadata": {},
   "outputs": [],
   "source": [
    "np.random.seed(0)\n",
    "x = 2 * (np.random.uniform(size=(int(n_samples / fraction), 2)) - 0.5)\n",
    "likes = loglike(transform(x))\n",
    "idx = np.argsort(-likes)\n",
    "samples = x[idx[0:n_samples]]"
   ]
  },
  {
   "cell_type": "code",
   "execution_count": null,
   "metadata": {},
   "outputs": [],
   "source": [
    "t = Trainer(dims, 64,  num_blocks=5, num_layers=1, scale='constant', flow='nvp')"
   ]
  },
  {
   "cell_type": "code",
   "execution_count": null,
   "metadata": {},
   "outputs": [],
   "source": [
    "t.train(samples, jitter=0.01)"
   ]
  },
  {
   "cell_type": "code",
   "execution_count": null,
   "metadata": {},
   "outputs": [],
   "source": [
    "x_synth = t.netG.sample(samples.size).detach().cpu().numpy()\n",
    "z = t.get_latent_samples(samples)"
   ]
  },
  {
   "cell_type": "code",
   "execution_count": null,
   "metadata": {},
   "outputs": [],
   "source": [
    "grid = []\n",
    "for x in np.linspace(np.min(samples[:, 0])*1.2, np.max(samples[:, 0])*1.2, 10):\n",
    "    for y in np.linspace(np.min(samples[:, 1])*1.2, np.max(samples[:, 1])*1.2, 5000):\n",
    "        grid.append([x, y])\n",
    "for y in np.linspace(np.min(samples[:, 1])*1.2, np.max(samples[:, 1])*1.2, 10):\n",
    "    for x in np.linspace(np.min(samples[:, 0])*1.2, np.max(samples[:, 0])*1.2, 5000):\n",
    "        grid.append([x, y])\n",
    "grid = np.array(grid)\n",
    "z_grid = t.get_latent_samples(grid)"
   ]
  },
  {
   "cell_type": "code",
   "execution_count": null,
   "metadata": {},
   "outputs": [],
   "source": [
    "fig, ax = plt.subplots(1, 3, figsize=(12, 5))\n",
    "ax[0].scatter(grid[:, 0], grid[:, 1], c=grid[:, 0], marker='.', s=1, linewidths=0)\n",
    "ax[0].scatter(samples[:, 0], samples[:, 1], s=4)\n",
    "ax[0].set_title('Real data')\n",
    "ax[1].scatter(z_grid[:, 0], z_grid[:, 1], c=grid[:, 0], marker='.', s=1, linewidths=0)\n",
    "ax[1].scatter(z[:, 0], z[:, 1], s=4)\n",
    "ax[1].set_title('Latent data')\n",
    "ax[1].set_xlim([-np.max(np.abs(z)), np.max(np.abs(z))])\n",
    "ax[1].set_ylim([-np.max(np.abs(z)), np.max(np.abs(z))])\n",
    "ax[2].scatter(x_synth[:, 0], x_synth[:, 1], s=2)\n",
    "ax[2].set_title('Synthetic data')\n",
    "plt.tight_layout()\n",
    "plt.show()"
   ]
  }
 ],
 "metadata": {
  "kernelspec": {
   "display_name": "Python 3",
   "language": "python",
   "name": "python3"
  },
  "language_info": {
   "codemirror_mode": {
    "name": "ipython",
    "version": 3
   },
   "file_extension": ".py",
   "mimetype": "text/x-python",
   "name": "python",
   "nbconvert_exporter": "python",
   "pygments_lexer": "ipython3",
   "version": "3.7.6"
  }
 },
 "nbformat": 4,
 "nbformat_minor": 4
}
