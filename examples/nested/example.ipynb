{
 "cells": [
  {
   "cell_type": "markdown",
   "metadata": {},
   "source": [
    "Example notebook showing how to use the nested sampler"
   ]
  },
  {
   "cell_type": "code",
   "execution_count": 1,
   "metadata": {},
   "outputs": [],
   "source": [
    "import os\n",
    "import sys\n",
    "import argparse\n",
    "import torch\n",
    "from getdist import plots, MCSamples\n",
    "import getdist\n",
    "import numpy as np\n",
    "from scipy.stats import multivariate_normal"
   ]
  },
  {
   "cell_type": "code",
   "execution_count": 2,
   "metadata": {},
   "outputs": [],
   "source": [
    "path = os.path.realpath(os.path.join(os.getcwd(), '../..'))\n",
    "sys.path.insert(0, path)"
   ]
  },
  {
   "cell_type": "code",
   "execution_count": 3,
   "metadata": {},
   "outputs": [],
   "source": [
    "from nnest import NestedSampler"
   ]
  },
  {
   "cell_type": "code",
   "execution_count": 4,
   "metadata": {},
   "outputs": [],
   "source": [
    "%matplotlib inline\n",
    "%config InlineBackend.figure_format = 'retina'"
   ]
  },
  {
   "cell_type": "code",
   "execution_count": 5,
   "metadata": {},
   "outputs": [],
   "source": [
    "# Himmelblau\n",
    "#dims = 2\n",
    "#def loglike(z):\n",
    "#    z1 = z[:, 0]\n",
    "#    z2 = z[:, 1]\n",
    "#    return - (z1**2 + z2 - 11.)**2 - (z1 + z2**2 - 7.)**2\n",
    "#def transform(x):\n",
    "#    return 5. * x"
   ]
  },
  {
   "cell_type": "code",
   "execution_count": 6,
   "metadata": {},
   "outputs": [],
   "source": [
    "# Rosenbrock\n",
    "#dims = 2\n",
    "#def loglike(z):\n",
    "#    return np.array([-sum(100.0 * (x[1:] - x[:-1] ** 2.0) ** 2.0 + (1 - x[:-1]) ** 2.0) for x in z])\n",
    "#def transform(x):\n",
    "#    return 5. * x"
   ]
  },
  {
   "cell_type": "code",
   "execution_count": 7,
   "metadata": {},
   "outputs": [],
   "source": [
    "# Gauss\n",
    "#dims = 2\n",
    "#corr = 0.99\n",
    "#def loglike(x):\n",
    "#    return multivariate_normal.logpdf(x, mean=np.zeros(dims), cov=np.eye(dims) + corr * (1 - np.eye(dims)))\n",
    "#def transform(x):\n",
    "#    return 3. * x"
   ]
  },
  {
   "cell_type": "code",
   "execution_count": 8,
   "metadata": {},
   "outputs": [],
   "source": [
    "# Eggbox\n",
    "dims = 2\n",
    "def loglike(x):\n",
    "    chi = (np.cos(x[:,0] / 2.))*(np.cos(x[:,1] / 2.))\n",
    "    return (2. + chi)**5\n",
    "def transform(x):\n",
    "    return x * 5 * np.pi"
   ]
  },
  {
   "cell_type": "code",
   "execution_count": 9,
   "metadata": {},
   "outputs": [
    {
     "name": "stdout",
     "output_type": "stream",
     "text": [
      "Creating directory for new run logs/test/run47\n",
      "[nnest.trainer] [INFO] SingleSpeedSpline(\n",
      "  (flow): NormalizingFlow(\n",
      "    (flows): ModuleList(\n",
      "      (0): ActNorm()\n",
      "      (1): Invertible1x1Conv()\n",
      "      (2): NSF_CL(\n",
      "        (f1): MLP(\n",
      "          (net): Sequential(\n",
      "            (0): Linear(in_features=1, out_features=16, bias=True)\n",
      "            (1): LeakyReLU(negative_slope=0.2)\n",
      "            (2): Linear(in_features=16, out_features=16, bias=True)\n",
      "            (3): LeakyReLU(negative_slope=0.2)\n",
      "            (4): Linear(in_features=16, out_features=16, bias=True)\n",
      "            (5): LeakyReLU(negative_slope=0.2)\n",
      "            (6): Linear(in_features=16, out_features=23, bias=True)\n",
      "          )\n",
      "        )\n",
      "        (f2): MLP(\n",
      "          (net): Sequential(\n",
      "            (0): Linear(in_features=1, out_features=16, bias=True)\n",
      "            (1): LeakyReLU(negative_slope=0.2)\n",
      "            (2): Linear(in_features=16, out_features=16, bias=True)\n",
      "            (3): LeakyReLU(negative_slope=0.2)\n",
      "            (4): Linear(in_features=16, out_features=16, bias=True)\n",
      "            (5): LeakyReLU(negative_slope=0.2)\n",
      "            (6): Linear(in_features=16, out_features=23, bias=True)\n",
      "          )\n",
      "        )\n",
      "      )\n",
      "      (3): ActNorm()\n",
      "      (4): Invertible1x1Conv()\n",
      "      (5): NSF_CL(\n",
      "        (f1): MLP(\n",
      "          (net): Sequential(\n",
      "            (0): Linear(in_features=1, out_features=16, bias=True)\n",
      "            (1): LeakyReLU(negative_slope=0.2)\n",
      "            (2): Linear(in_features=16, out_features=16, bias=True)\n",
      "            (3): LeakyReLU(negative_slope=0.2)\n",
      "            (4): Linear(in_features=16, out_features=16, bias=True)\n",
      "            (5): LeakyReLU(negative_slope=0.2)\n",
      "            (6): Linear(in_features=16, out_features=23, bias=True)\n",
      "          )\n",
      "        )\n",
      "        (f2): MLP(\n",
      "          (net): Sequential(\n",
      "            (0): Linear(in_features=1, out_features=16, bias=True)\n",
      "            (1): LeakyReLU(negative_slope=0.2)\n",
      "            (2): Linear(in_features=16, out_features=16, bias=True)\n",
      "            (3): LeakyReLU(negative_slope=0.2)\n",
      "            (4): Linear(in_features=16, out_features=16, bias=True)\n",
      "            (5): LeakyReLU(negative_slope=0.2)\n",
      "            (6): Linear(in_features=16, out_features=23, bias=True)\n",
      "          )\n",
      "        )\n",
      "      )\n",
      "      (6): ActNorm()\n",
      "      (7): Invertible1x1Conv()\n",
      "      (8): NSF_CL(\n",
      "        (f1): MLP(\n",
      "          (net): Sequential(\n",
      "            (0): Linear(in_features=1, out_features=16, bias=True)\n",
      "            (1): LeakyReLU(negative_slope=0.2)\n",
      "            (2): Linear(in_features=16, out_features=16, bias=True)\n",
      "            (3): LeakyReLU(negative_slope=0.2)\n",
      "            (4): Linear(in_features=16, out_features=16, bias=True)\n",
      "            (5): LeakyReLU(negative_slope=0.2)\n",
      "            (6): Linear(in_features=16, out_features=23, bias=True)\n",
      "          )\n",
      "        )\n",
      "        (f2): MLP(\n",
      "          (net): Sequential(\n",
      "            (0): Linear(in_features=1, out_features=16, bias=True)\n",
      "            (1): LeakyReLU(negative_slope=0.2)\n",
      "            (2): Linear(in_features=16, out_features=16, bias=True)\n",
      "            (3): LeakyReLU(negative_slope=0.2)\n",
      "            (4): Linear(in_features=16, out_features=16, bias=True)\n",
      "            (5): LeakyReLU(negative_slope=0.2)\n",
      "            (6): Linear(in_features=16, out_features=23, bias=True)\n",
      "          )\n",
      "        )\n",
      "      )\n",
      "    )\n",
      "  )\n",
      ")\n",
      "[nnest.trainer] [INFO] Number of network params: [5844]\n",
      "[nnest.trainer] [INFO] Device [cpu]\n",
      "[nnest.sampler] [INFO] Num base params [2]\n",
      "[nnest.sampler] [INFO] Num derived params [0]\n",
      "[nnest.sampler] [INFO] Total params [2]\n",
      "[nnest.sampler] [INFO] Num live points [1000]\n"
     ]
    }
   ],
   "source": [
    "sampler = NestedSampler(dims, loglike, transform=transform, num_live_points=1000, flow='spline')"
   ]
  },
  {
   "cell_type": "code",
   "execution_count": 10,
   "metadata": {},
   "outputs": [
    {
     "name": "stdout",
     "output_type": "stream",
     "text": [
      "[nnest.sampler] [INFO] MCMC steps [10]\n",
      "[nnest.sampler] [INFO] Initial scale [1.4142]\n",
      "[nnest.sampler] [INFO] Volume switch [-1.0000]\n",
      "[nnest.trainer] [INFO] Number of training samples [1000]\n",
      "[nnest.trainer] [INFO] Training jitter [0.0032]\n",
      "[nnest.trainer] [INFO] Epoch [1] train loss [0.0179] validation loss [0.0192]\n",
      "[nnest.trainer] [INFO] Epoch [50] train loss [0.0154] validation loss [0.0168]\n",
      "[nnest.trainer] [INFO] Epoch [100] train loss [0.0149] validation loss [0.0164]\n",
      "[nnest.trainer] [INFO] Epoch [150] train loss [0.0147] validation loss [0.0160]\n",
      "[nnest.trainer] [INFO] Epoch [200] train loss [0.0145] validation loss [0.0159]\n",
      "[nnest.trainer] [INFO] Epoch [250] train loss [0.0144] validation loss [0.0158]\n",
      "[nnest.trainer] [INFO] Epoch [300] train loss [0.0143] validation loss [0.0157]\n",
      "[nnest.trainer] [INFO] Epoch [350] train loss [0.0142] validation loss [0.0156]\n",
      "[nnest.trainer] [INFO] Epoch [400] train loss [0.0141] validation loss [0.0156]\n",
      "[nnest.trainer] [INFO] Epoch [450] train loss [0.0141] validation loss [0.0156]\n",
      "[nnest.trainer] [INFO] Epoch [481] ran out of patience\n",
      "[nnest.trainer] [INFO] Best epoch [431] validation loss [0.0156]\n",
      "[nnest.sampler] [INFO] Step [0] loglstar [1.0608e+00] max logl [2.4280e+02] logz [-5.8474e+00] vol [1.00000e+00] ncalls [1001] mean calls [1.0000]\n",
      "[nnest.sampler] [INFO] Step [200] loglstar [7.5134e+00] max logl [2.4280e+02] logz [3.6427e+00] vol [8.18731e-01] ncalls [1226] mean calls [1.1000]\n",
      "[nnest.sampler] [INFO] Step [400] loglstar [2.1933e+01] max logl [2.4280e+02] logz [1.7042e+01] vol [6.70320e-01] ncalls [1496] mean calls [1.7000]\n",
      "[nnest.sampler] [INFO] Step [600] loglstar [3.1363e+01] max logl [2.4280e+02] logz [2.7095e+01] vol [5.48812e-01] ncalls [1857] mean calls [2.0000]\n",
      "[nnest.sampler] [INFO] Step [800] loglstar [3.9933e+01] max logl [2.4280e+02] logz [3.5193e+01] vol [4.49329e-01] ncalls [2324] mean calls [2.3000]\n",
      "[nnest.trainer] [INFO] Number of training samples [1000]\n",
      "[nnest.trainer] [INFO] Training jitter [0.0019]\n",
      "[nnest.trainer] [INFO] Epoch [1] train loss [0.0144] validation loss [0.0140]\n",
      "[nnest.trainer] [INFO] Epoch [50] train loss [0.0115] validation loss [0.0118]\n",
      "[nnest.trainer] [INFO] Epoch [100] train loss [0.0104] validation loss [0.0106]\n",
      "[nnest.trainer] [INFO] Epoch [150] train loss [0.0097] validation loss [0.0102]\n",
      "[nnest.trainer] [INFO] Epoch [200] train loss [0.0091] validation loss [0.0098]\n",
      "[nnest.trainer] [INFO] Epoch [250] train loss [0.0087] validation loss [0.0096]\n",
      "[nnest.trainer] [INFO] Epoch [300] train loss [0.0085] validation loss [0.0095]\n",
      "[nnest.trainer] [INFO] Epoch [350] train loss [0.0083] validation loss [0.0093]\n",
      "[nnest.trainer] [INFO] Epoch [400] train loss [0.0081] validation loss [0.0091]\n",
      "[nnest.trainer] [INFO] Epoch [450] train loss [0.0080] validation loss [0.0090]\n",
      "[nnest.trainer] [INFO] Epoch [500] train loss [0.0079] validation loss [0.0090]\n",
      "[nnest.trainer] [INFO] Best epoch [498] validation loss [0.0089]\n",
      "[nnest.sampler] [INFO] Step [1000] loglstar [5.2343e+01] max logl [2.4280e+02] logz [4.7271e+01] vol [3.67879e-01] ncalls [2825] mean calls [2.6000]\n",
      "[nnest.sampler] [INFO] Step [1200] loglstar [6.5814e+01] max logl [2.4280e+02] logz [6.0077e+01] vol [3.01194e-01] ncalls [3518] mean calls [4.4000]\n",
      "[nnest.sampler] [INFO] Step [1400] loglstar [8.1246e+01] max logl [2.4280e+02] logz [7.5822e+01] vol [2.46597e-01] ncalls [4349] mean calls [4.9000]\n",
      "[nnest.sampler] [INFO] Step [1600] loglstar [9.9264e+01] max logl [2.4280e+02] logz [9.3234e+01] vol [2.01897e-01] ncalls [5373] mean calls [8.9000]\n",
      "[nnest.sampler] [INFO] Step [1800] loglstar [1.1293e+02] max logl [2.4280e+02] logz [1.0682e+02] vol [1.65299e-01] ncalls [6461] mean calls [7.4000]\n",
      "[nnest.sampler] [INFO] Switching to MCMC sampling\n",
      "[nnest.trainer] [INFO] Number of training samples [1000]\n",
      "[nnest.trainer] [INFO] Training jitter [0.0012]\n",
      "[nnest.trainer] [INFO] Epoch [1] train loss [0.0039] validation loss [0.0036]\n",
      "[nnest.trainer] [INFO] Epoch [50] train loss [0.0002] validation loss [0.0006]\n",
      "[nnest.trainer] [INFO] Epoch [100] train loss [-0.0007] validation loss [0.0003]\n",
      "[nnest.trainer] [INFO] Epoch [150] train loss [-0.0011] validation loss [0.0001]\n",
      "[nnest.trainer] [INFO] Epoch [200] train loss [-0.0014] validation loss [0.0000]\n",
      "[nnest.trainer] [INFO] Epoch [250] train loss [-0.0015] validation loss [-0.0000]\n",
      "[nnest.trainer] [INFO] Epoch [300] train loss [-0.0017] validation loss [-0.0001]\n",
      "[nnest.trainer] [INFO] Epoch [303] ran out of patience\n",
      "[nnest.trainer] [INFO] Best epoch [253] validation loss [-0.0003]\n",
      "[nnest.sampler] [INFO] Acceptance [0.6100] min ESS [1.2347] max ESS [1.4151] average jump distance [0.0850]\n",
      "[nnest.sampler] [INFO] Step [2000] loglstar [1.2906e+02] maxlogl [2.4280e+02] logz [1.2254e+02] vol [1.35335e-01] ncalls [8141] scale [0.2627]\n",
      "[nnest.sampler] [INFO] Acceptance [0.3100] min ESS [1.3976] max ESS [1.8959] average jump distance [0.0615]\n",
      "[nnest.sampler] [INFO] Step [2200] loglstar [1.4615e+02] maxlogl [2.4280e+02] logz [1.3980e+02] vol [1.10803e-01] ncalls [9711] scale [0.0756]\n",
      "[nnest.sampler] [INFO] Acceptance [0.4500] min ESS [2.0068] max ESS [2.1972] average jump distance [0.0824]\n",
      "[nnest.sampler] [INFO] Step [2400] loglstar [1.6021e+02] maxlogl [2.4280e+02] logz [1.5372e+02] vol [9.07180e-02] ncalls [11330] scale [0.0576]\n",
      "[nnest.sampler] [INFO] Acceptance [0.4700] min ESS [1.2360] max ESS [2.0451] average jump distance [0.0609]\n",
      "[nnest.sampler] [INFO] Step [2600] loglstar [1.7282e+02] maxlogl [2.4280e+02] logz [1.6600e+02] vol [7.42736e-02] ncalls [12911] scale [0.0626]\n",
      "[nnest.sampler] [INFO] Acceptance [0.5200] min ESS [1.7508] max ESS [2.0323] average jump distance [0.0381]\n",
      "[nnest.sampler] [INFO] Step [2800] loglstar [1.8289e+02] maxlogl [2.4287e+02] logz [1.7625e+02] vol [6.08101e-02] ncalls [14523] scale [0.0567]\n",
      "[nnest.trainer] [INFO] Number of training samples [1000]\n",
      "[nnest.trainer] [INFO] Training jitter [0.0007]\n",
      "[nnest.trainer] [INFO] Epoch [1] train loss [-0.0053] validation loss [-0.0055]\n",
      "[nnest.trainer] [INFO] Epoch [50] train loss [-0.0104] validation loss [-0.0095]\n",
      "[nnest.trainer] [INFO] Epoch [100] train loss [-0.0110] validation loss [-0.0097]\n",
      "[nnest.trainer] [INFO] Epoch [150] train loss [-0.0114] validation loss [-0.0100]\n",
      "[nnest.trainer] [INFO] Epoch [200] train loss [-0.0116] validation loss [-0.0101]\n",
      "[nnest.trainer] [INFO] Epoch [250] train loss [-0.0117] validation loss [-0.0101]\n",
      "[nnest.trainer] [INFO] Epoch [300] train loss [-0.0118] validation loss [-0.0103]\n",
      "[nnest.trainer] [INFO] Epoch [343] ran out of patience\n",
      "[nnest.trainer] [INFO] Best epoch [293] validation loss [-0.0104]\n",
      "[nnest.sampler] [INFO] Acceptance [0.5200] min ESS [1.4242] max ESS [1.6289] average jump distance [0.0395]\n",
      "[nnest.sampler] [INFO] Step [3000] loglstar [1.9271e+02] maxlogl [2.4294e+02] logz [1.8589e+02] vol [4.97871e-02] ncalls [16224] scale [0.0740]\n",
      "[nnest.sampler] [INFO] Acceptance [0.4800] min ESS [1.9259] max ESS [2.2787] average jump distance [0.0505]\n",
      "[nnest.sampler] [INFO] Step [3200] loglstar [2.0063e+02] maxlogl [2.4294e+02] logz [1.9384e+02] vol [4.07622e-02] ncalls [17742] scale [0.0576]\n",
      "[nnest.sampler] [INFO] Acceptance [0.3700] min ESS [1.9055] max ESS [2.2423] average jump distance [0.0460]\n",
      "[nnest.sampler] [INFO] Step [3400] loglstar [2.0723e+02] maxlogl [2.4296e+02] logz [2.0054e+02] vol [3.33733e-02] ncalls [19328] scale [0.0748]\n",
      "[nnest.sampler] [INFO] Acceptance [0.5200] min ESS [1.5008] max ESS [1.7257] average jump distance [0.0277]\n",
      "[nnest.sampler] [INFO] Step [3600] loglstar [2.1373e+02] maxlogl [2.4298e+02] logz [2.0698e+02] vol [2.73237e-02] ncalls [21004] scale [0.1104]\n",
      "[nnest.sampler] [INFO] Acceptance [0.3600] min ESS [1.4486] max ESS [2.4798] average jump distance [0.0181]\n",
      "[nnest.sampler] [INFO] Step [3800] loglstar [2.1862e+02] maxlogl [2.4298e+02] logz [2.1158e+02] vol [2.23708e-02] ncalls [22605] scale [0.0748]\n",
      "[nnest.trainer] [INFO] Number of training samples [1000]\n",
      "[nnest.trainer] [INFO] Training jitter [0.0004]\n",
      "[nnest.trainer] [INFO] Epoch [1] train loss [-0.0156] validation loss [-0.0175]\n",
      "[nnest.trainer] [INFO] Epoch [50] train loss [-0.0197] validation loss [-0.0204]\n",
      "[nnest.trainer] [INFO] Epoch [100] train loss [-0.0201] validation loss [-0.0207]\n",
      "[nnest.trainer] [INFO] Epoch [150] train loss [-0.0206] validation loss [-0.0211]\n"
     ]
    },
    {
     "name": "stdout",
     "output_type": "stream",
     "text": [
      "[nnest.trainer] [INFO] Epoch [200] train loss [-0.0208] validation loss [-0.0213]\n",
      "[nnest.trainer] [INFO] Epoch [250] train loss [-0.0209] validation loss [-0.0214]\n",
      "[nnest.trainer] [INFO] Epoch [300] train loss [-0.0210] validation loss [-0.0214]\n",
      "[nnest.trainer] [INFO] Epoch [321] ran out of patience\n",
      "[nnest.trainer] [INFO] Best epoch [271] validation loss [-0.0216]\n",
      "[nnest.sampler] [INFO] Acceptance [0.3900] min ESS [1.1822] max ESS [1.3465] average jump distance [0.0210]\n",
      "[nnest.sampler] [INFO] Step [4000] loglstar [2.2240e+02] maxlogl [2.4300e+02] logz [2.1556e+02] vol [1.83156e-02] ncalls [24265] scale [0.0689]\n",
      "[nnest.sampler] [INFO] Acceptance [0.3600] min ESS [1.7168] max ESS [2.3737] average jump distance [0.0524]\n",
      "[nnest.sampler] [INFO] Step [4200] loglstar [2.2598e+02] maxlogl [2.4300e+02] logz [2.1895e+02] vol [1.49956e-02] ncalls [25830] scale [0.0756]\n",
      "[nnest.sampler] [INFO] Acceptance [0.4700] min ESS [1.3031] max ESS [1.3743] average jump distance [0.0705]\n",
      "[nnest.sampler] [INFO] Step [4400] loglstar [2.2910e+02] maxlogl [2.4300e+02] logz [2.2196e+02] vol [1.22773e-02] ncalls [27421] scale [0.0430]\n",
      "[nnest.sampler] [INFO] Acceptance [0.4800] min ESS [1.6304] max ESS [1.8035] average jump distance [0.0449]\n",
      "[nnest.sampler] [INFO] Step [4600] loglstar [2.3138e+02] maxlogl [2.4300e+02] logz [2.2443e+02] vol [1.00518e-02] ncalls [29023] scale [0.0530]\n",
      "[nnest.sampler] [INFO] Acceptance [0.4100] min ESS [1.6732] max ESS [1.9917] average jump distance [0.0256]\n",
      "[nnest.sampler] [INFO] Step [4800] loglstar [2.3340e+02] maxlogl [2.4300e+02] logz [2.2639e+02] vol [8.22975e-03] ncalls [30741] scale [0.0673]\n",
      "[nnest.trainer] [INFO] Number of training samples [1000]\n",
      "[nnest.trainer] [INFO] Training jitter [0.0003]\n",
      "[nnest.trainer] [INFO] Epoch [1] train loss [-0.0256] validation loss [-0.0266]\n",
      "[nnest.trainer] [INFO] Epoch [50] train loss [-0.0294] validation loss [-0.0291]\n",
      "[nnest.trainer] [INFO] Epoch [100] train loss [-0.0303] validation loss [-0.0293]\n",
      "[nnest.trainer] [INFO] Epoch [150] train loss [-0.0305] validation loss [-0.0293]\n",
      "[nnest.trainer] [INFO] Epoch [200] train loss [-0.0310] validation loss [-0.0300]\n",
      "[nnest.trainer] [INFO] Epoch [250] train loss [-0.0307] validation loss [-0.0302]\n",
      "[nnest.trainer] [INFO] Epoch [300] train loss [-0.0312] validation loss [-0.0302]\n",
      "[nnest.trainer] [INFO] Epoch [350] train loss [-0.0311] validation loss [-0.0301]\n",
      "[nnest.trainer] [INFO] Epoch [380] ran out of patience\n",
      "[nnest.trainer] [INFO] Best epoch [330] validation loss [-0.0307]\n",
      "[nnest.sampler] [INFO] Acceptance [0.4500] min ESS [1.2424] max ESS [1.4008] average jump distance [0.0457]\n",
      "[nnest.sampler] [INFO] Step [5000] loglstar [2.3529e+02] maxlogl [2.4300e+02] logz [2.2816e+02] vol [6.73795e-03] ncalls [32432] scale [0.0648]\n",
      "[nnest.sampler] [INFO] Acceptance [0.5300] min ESS [1.3957] max ESS [1.7172] average jump distance [0.0981]\n",
      "[nnest.sampler] [INFO] Step [5200] loglstar [2.3663e+02] maxlogl [2.4300e+02] logz [2.2960e+02] vol [5.51656e-03] ncalls [33994] scale [0.1180]\n",
      "[nnest.sampler] [INFO] Acceptance [0.3800] min ESS [1.5547] max ESS [5.1696] average jump distance [0.0573]\n",
      "[nnest.sampler] [INFO] Step [5400] loglstar [2.3788e+02] maxlogl [2.4300e+02] logz [2.3078e+02] vol [4.51658e-03] ncalls [35679] scale [0.0636]\n",
      "[nnest.sampler] [INFO] Acceptance [0.5000] min ESS [1.5534] max ESS [2.0613] average jump distance [0.0923]\n",
      "[nnest.sampler] [INFO] Step [5600] loglstar [2.3884e+02] maxlogl [2.4300e+02] logz [2.3177e+02] vol [3.69786e-03] ncalls [37281] scale [0.1305]\n",
      "[nnest.sampler] [INFO] Acceptance [0.4900] min ESS [1.0556] max ESS [1.6693] average jump distance [0.0137]\n",
      "[nnest.sampler] [INFO] Step [5800] loglstar [2.3964e+02] maxlogl [2.4300e+02] logz [2.3256e+02] vol [3.02755e-03] ncalls [38993] scale [0.0681]\n",
      "[nnest.trainer] [INFO] Number of training samples [1000]\n",
      "[nnest.trainer] [INFO] Training jitter [0.0002]\n",
      "[nnest.trainer] [INFO] Epoch [1] train loss [-0.0357] validation loss [-0.0359]\n",
      "[nnest.trainer] [INFO] Epoch [50] train loss [-0.0392] validation loss [-0.0389]\n",
      "[nnest.trainer] [INFO] Epoch [100] train loss [-0.0395] validation loss [-0.0389]\n",
      "[nnest.trainer] [INFO] Epoch [150] train loss [-0.0401] validation loss [-0.0393]\n",
      "[nnest.trainer] [INFO] Epoch [200] train loss [-0.0406] validation loss [-0.0401]\n",
      "[nnest.trainer] [INFO] Epoch [250] train loss [-0.0406] validation loss [-0.0397]\n",
      "[nnest.trainer] [INFO] Epoch [300] train loss [-0.0409] validation loss [-0.0401]\n",
      "[nnest.trainer] [INFO] Epoch [350] train loss [-0.0409] validation loss [-0.0404]\n",
      "[nnest.trainer] [INFO] Epoch [400] train loss [-0.0412] validation loss [-0.0403]\n",
      "[nnest.trainer] [INFO] Epoch [400] ran out of patience\n",
      "[nnest.trainer] [INFO] Best epoch [350] validation loss [-0.0404]\n",
      "[nnest.sampler] [INFO] Acceptance [0.4300] min ESS [1.8806] max ESS [2.4137] average jump distance [0.0512]\n",
      "[nnest.sampler] [INFO] Step [6000] loglstar [2.4023e+02] maxlogl [2.4300e+02] logz [2.3319e+02] vol [2.47875e-03] ncalls [40617] scale [0.0636]\n",
      "[nnest.sampler] [INFO] Acceptance [0.4700] min ESS [1.3599] max ESS [1.5452] average jump distance [0.0314]\n",
      "[nnest.sampler] [INFO] Step [6200] loglstar [2.4070e+02] maxlogl [2.4300e+02] logz [2.3370e+02] vol [2.02943e-03] ncalls [42279] scale [0.0496]\n",
      "[nnest.sampler] [INFO] Acceptance [0.5900] min ESS [1.7358] max ESS [2.0497] average jump distance [0.0838]\n",
      "[nnest.sampler] [INFO] Step [6400] loglstar [2.4110e+02] maxlogl [2.4300e+02] logz [2.3410e+02] vol [1.66156e-03] ncalls [43965] scale [0.0648]\n",
      "[nnest.sampler] [INFO] Acceptance [0.4500] min ESS [1.4701] max ESS [1.6925] average jump distance [0.0581]\n",
      "[nnest.sampler] [INFO] Step [6600] loglstar [2.4146e+02] maxlogl [2.4300e+02] logz [2.3443e+02] vol [1.36037e-03] ncalls [45590] scale [0.0675]\n",
      "[nnest.sampler] [INFO] Acceptance [0.4400] min ESS [1.5198] max ESS [2.1800] average jump distance [0.0289]\n",
      "[nnest.sampler] [INFO] Step [6800] loglstar [2.4174e+02] maxlogl [2.4300e+02] logz [2.3471e+02] vol [1.11378e-03] ncalls [47237] scale [0.0689]\n",
      "[nnest.trainer] [INFO] Number of training samples [1000]\n",
      "[nnest.trainer] [INFO] Training jitter [0.0001]\n",
      "[nnest.trainer] [INFO] Epoch [1] train loss [-0.0458] validation loss [-0.0475]\n",
      "[nnest.trainer] [INFO] Epoch [50] train loss [-0.0491] validation loss [-0.0501]\n",
      "[nnest.trainer] [INFO] Epoch [100] train loss [-0.0502] validation loss [-0.0512]\n",
      "[nnest.trainer] [INFO] Epoch [150] train loss [-0.0498] validation loss [-0.0494]\n",
      "[nnest.trainer] [INFO] Epoch [200] train loss [-0.0505] validation loss [-0.0519]\n",
      "[nnest.trainer] [INFO] Epoch [215] ran out of patience\n",
      "[nnest.trainer] [INFO] Best epoch [165] validation loss [-0.0521]\n",
      "[nnest.sampler] [INFO] Acceptance [0.4200] min ESS [2.0911] max ESS [2.8360] average jump distance [0.0888]\n",
      "[nnest.sampler] [INFO] Step [7000] loglstar [2.4197e+02] maxlogl [2.4300e+02] logz [2.3494e+02] vol [9.11882e-04] ncalls [48984] scale [0.0621]\n",
      "[nnest.sampler] [INFO] Acceptance [0.3000] min ESS [1.8475] max ESS [1.9314] average jump distance [0.0581]\n",
      "[nnest.sampler] [INFO] Step [7200] loglstar [2.4216e+02] maxlogl [2.4300e+02] logz [2.3513e+02] vol [7.46586e-04] ncalls [50620] scale [0.0724]\n",
      "[nnest.sampler] [INFO] Acceptance [0.5300] min ESS [1.4154] max ESS [1.4266] average jump distance [0.0261]\n",
      "[nnest.sampler] [INFO] Step [7400] loglstar [2.4233e+02] maxlogl [2.4300e+02] logz [2.3528e+02] vol [6.11253e-04] ncalls [52243] scale [0.1033]\n",
      "[nnest.sampler] [INFO] Acceptance [0.5200] min ESS [1.4577] max ESS [1.6779] average jump distance [0.0466]\n",
      "[nnest.sampler] [INFO] Step [7600] loglstar [2.4244e+02] maxlogl [2.4300e+02] logz [2.3541e+02] vol [5.00451e-04] ncalls [53956] scale [0.0616]\n",
      "[nnest.sampler] [INFO] Acceptance [0.3100] min ESS [2.2611] max ESS [2.3430] average jump distance [0.0255]\n",
      "[nnest.sampler] [INFO] Step [7800] loglstar [2.4256e+02] maxlogl [2.4300e+02] logz [2.3551e+02] vol [4.09735e-04] ncalls [55701] scale [0.0756]\n",
      "niter: 7885\n",
      " ncall: 56477\n",
      " nsamples: 8885\n",
      " logz: 235.978 +/-  0.078\n",
      " h:  6.035\n"
     ]
    }
   ],
   "source": [
    "sampler.run()"
   ]
  },
  {
   "cell_type": "code",
   "execution_count": 11,
   "metadata": {},
   "outputs": [
    {
     "name": "stdout",
     "output_type": "stream",
     "text": [
      "235.97797465879856\n"
     ]
    }
   ],
   "source": [
    "print(sampler.logz)"
   ]
  },
  {
   "cell_type": "code",
   "execution_count": 12,
   "metadata": {},
   "outputs": [
    {
     "name": "stdout",
     "output_type": "stream",
     "text": [
      "Removed no burn in\n"
     ]
    }
   ],
   "source": [
    "mc = MCSamples(samples=sampler.samples, weights=sampler.weights, loglikes=sampler.loglikes)"
   ]
  },
  {
   "cell_type": "code",
   "execution_count": 13,
   "metadata": {},
   "outputs": [
    {
     "name": "stderr",
     "output_type": "stream",
     "text": [
      "WARNING:root:auto bandwidth for param1 very small or failed (h=0.000873119626999561,N_eff=1293.201415474351). Using fallback (h=0.04955139714426779)\n",
      "WARNING:root:auto bandwidth for param2 very small or failed (h=0.0007658400414467872,N_eff=1157.6008184242023). Using fallback (h=0.06916963738758654)\n"
     ]
    },
    {
     "name": "stdout",
     "output_type": "stream",
     "text": [
      "3119.12832047762\n",
      "Marginalized limits: 0.68; 0.95; 0.99\n",
      "\n",
      "parameter   mean           sddev          lower1         upper1         limit1 lower2         upper2         limit2 lower3         upper3         limit3 \n",
      "param1     -8.4683642E-01  9.2731985E+00 -1.3378994E+01  1.0687345E+01  two   -1.6008775E+01  1.5510327E+01  two   -1.8502698E+01  1.8203343E+01  two     p_{1}\n",
      "param2     -8.9876105E-02  9.2294237E+00 -1.2530051E+01  1.2509796E+01  two   -1.2701662E+01  1.2690010E+01  two   -1.2776591E+01  1.2768250E+01  two     p_{2}\n",
      "\n"
     ]
    }
   ],
   "source": [
    "print(mc.getEffectiveSamples())\n",
    "print(mc.getMargeStats())"
   ]
  },
  {
   "cell_type": "code",
   "execution_count": 24,
   "metadata": {},
   "outputs": [
    {
     "name": "stderr",
     "output_type": "stream",
     "text": [
      "WARNING:root:auto bandwidth for param1 very small or failed (h=0.000873119626999561,N_eff=1293.201415474351). Using fallback (h=0.04955139714426779)\n",
      "WARNING:root:auto bandwidth for param2 very small or failed (h=0.0007658400414467872,N_eff=1157.6008184242023). Using fallback (h=0.06916963738758654)\n",
      "WARNING:root:fine_bins_2D not large enough for optimal density\n"
     ]
    },
    {
     "data": {
      "image/png": "[encoded data removed]",
      "text/plain": [
       "<Figure size 576x576 with 3 Axes>"
      ]
     },
     "metadata": {
      "image/png": {
       "height": 565,
       "width": 566
      },
      "needs_background": "light"
     },
     "output_type": "display_data"
    }
   ],
   "source": [
    "g = plots.getSubplotPlotter(width_inch=8)\n",
    "g.triangle_plot(mc, filled=True)"
   ]
  },
  {
   "cell_type": "code",
   "execution_count": null,
   "metadata": {},
   "outputs": [],
   "source": []
  }
 ],
 "metadata": {
  "kernelspec": {
   "display_name": "Python 3",
   "language": "python",
   "name": "python3"
  },
  "language_info": {
   "codemirror_mode": {
    "name": "ipython",
    "version": 3
   },
   "file_extension": ".py",
   "mimetype": "text/x-python",
   "name": "python",
   "nbconvert_exporter": "python",
   "pygments_lexer": "ipython3",
   "version": "3.7.6"
  }
 },
 "nbformat": 4,
 "nbformat_minor": 4
}
